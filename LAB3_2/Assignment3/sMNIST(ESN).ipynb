{
 "cells": [
  {
   "cell_type": "markdown",
   "source": [
    "# Bonus-Track Assignment 3: Sequential MNIST classification task wih ESN\n",
    "\n",
    "Solve the sequential MNIST classification problem with an ESN (see details on this task from previous lab assignment files)."
   ],
   "metadata": {
    "collapsed": false
   }
  },
  {
   "cell_type": "markdown",
   "source": [],
   "metadata": {
    "collapsed": false
   }
  },
  {
   "cell_type": "code",
   "execution_count": 1,
   "outputs": [],
   "source": [
    "import os, torch\n",
    "from torch import Tensor, cuda\n",
    "from torch.linalg import pinv\n",
    "\n",
    "from LAB3_2.Assignment3.TorchEchoStateNetworks import LatentESN_torch"
   ],
   "metadata": {
    "collapsed": false,
    "ExecuteTime": {
     "end_time": "2023-07-01T17:11:01.012001Z",
     "start_time": "2023-07-01T17:10:58.814499400Z"
    }
   }
  },
  {
   "cell_type": "code",
   "execution_count": 2,
   "outputs": [],
   "source": [
    "gpu = 'cuda' if cuda.is_available() else 'cpu'\n",
    "if not os.path.exists('caches'):\n",
    "    os.makedirs('caches')"
   ],
   "metadata": {
    "collapsed": false,
    "ExecuteTime": {
     "end_time": "2023-07-01T17:11:01.049784600Z",
     "start_time": "2023-07-01T17:11:01.034126500Z"
    }
   }
  },
  {
   "cell_type": "code",
   "execution_count": 3,
   "metadata": {
    "collapsed": true,
    "ExecuteTime": {
     "end_time": "2023-07-01T17:11:01.867913100Z",
     "start_time": "2023-07-01T17:11:01.049784600Z"
    }
   },
   "outputs": [],
   "source": [
    "from Utils.utils import compute_acc\n",
    "\n",
    "\n",
    "class sMNISTEsnClassifier(LatentESN_torch):\n",
    "    def __init__(self, input_size: int, hidden_dim: int, omega: float, spectral_radius: float,\n",
    "                 leakage_rate:float, tikhonov:float, device:str=\"cpu\"):\n",
    "        \"\"\"\n",
    "        Model based on Echo State network used into \"Classification\" scenario.\n",
    "\n",
    "        :param input_size: Input dimension\n",
    "        :param hidden_dim: hidden dimension\n",
    "        :param omega: Scaling factor of input matrix and bias\n",
    "        :param spectral_radius: Desiderata spectral radius\n",
    "        :param tikhonov: Tikhonov regularization parameter\n",
    "        \"\"\"\n",
    "        # Latent Echo state network (untrained)\n",
    "        super().__init__(input_size, hidden_dim, omega, spectral_radius, leakage_rate, device)\n",
    "        # Readout (trained)\n",
    "        self.Wo = None\n",
    "\n",
    "        self.tikhonov = tikhonov # Tikhonov regularization\n",
    "        self.device = device\n",
    "\n",
    "    def fit(self, x: Tensor, y: Tensor = None) -> Tensor:\n",
    "        \"\"\"\n",
    "        Fit the model using the input, the target.\n",
    "        First, it calculates the hidden states, which are used to fit the readout;\n",
    "        (In particular, the last one) finally, we return the loss between the output\n",
    "        and target with a trained model.\n",
    "        \"\"\"\n",
    "\n",
    "        # Perform the LAST hidden states\n",
    "        h_last = self.reservoir_last(seq=x) # [batch. hidden_dim]\n",
    "\n",
    "        # Fit directly the readout\n",
    "        I = torch.eye(h_last.shape[1], device=self.device)\n",
    "        self.Wo = pinv(\n",
    "            h_last.T @ h_last + self.tikhonov * I) @ h_last.T @ y\n",
    "\n",
    "        y_pred = h_last @ self.Wo\n",
    "        return self.MSE(y, y_pred)\n",
    "\n",
    "    @staticmethod\n",
    "    def MSE(y: Tensor, y_pred: Tensor) -> Tensor:\n",
    "        \"\"\"\n",
    "        Mean square error\n",
    "        :param y: Target\n",
    "        :param y_pred: Predicted target\n",
    "        \"\"\"\n",
    "        return torch.pow((y - y_pred), 2).mean()\n",
    "\n",
    "    def predict(self, x: Tensor, y: Tensor = None):\n",
    "        \"\"\"\n",
    "        Perform the forward pass. If it provided the target,\n",
    "        it performs also the loss.\n",
    "        :param x: Input signal\n",
    "        :param y: Target signal\n",
    "        \"\"\"\n",
    "\n",
    "        # Perform the LAST hidden states\n",
    "        h_last = self.reservoir_last(seq=x)  # [batch. hidden_dim]\n",
    "\n",
    "        # Output signal\n",
    "        y_pred = (h_last @ self.Wo).argmax(-1) # [batch, 10]\n",
    "\n",
    "        acc = None\n",
    "        if y is not None:\n",
    "            acc = compute_acc(y, y_pred)\n",
    "\n",
    "        return (acc, y_pred) if acc is not None else y_pred\n",
    "\n",
    "    def validate(self, x: Tensor, y: Tensor) -> tuple[float, Tensor]:\n",
    "        loss, last_h, _ = self.predict(x, y)\n",
    "        return loss, last_h\n"
   ]
  },
  {
   "cell_type": "code",
   "execution_count": 4,
   "outputs": [],
   "source": [
    "from Utils.utils import Sequential_mnist\n",
    "\n",
    "tr_dataset = Sequential_mnist(\"train\", root=\".\\..\\..\\Sources\\MNIST\", one_hot_encoding=True)\n",
    "dev_dataset = Sequential_mnist(\"dev\", root=\".\\..\\..\\Sources\\MNIST\", one_hot_encoding=True)\n",
    "ts_dataset = Sequential_mnist(\"test\", root=\".\\..\\..\\Sources\\MNIST\", one_hot_encoding=True)"
   ],
   "metadata": {
    "collapsed": false,
    "ExecuteTime": {
     "end_time": "2023-07-01T17:11:02.080132400Z",
     "start_time": "2023-07-01T17:11:01.867913100Z"
    }
   }
  },
  {
   "cell_type": "code",
   "execution_count": 5,
   "outputs": [],
   "source": [
    "tr_x = tr_dataset.data.transpose_(0,1).to(\"cuda\")\n",
    "tr_y = tr_dataset.target.float().to(\"cuda\")"
   ],
   "metadata": {
    "collapsed": false,
    "ExecuteTime": {
     "end_time": "2023-07-01T17:11:02.241677400Z",
     "start_time": "2023-07-01T17:11:02.080132400Z"
    }
   }
  },
  {
   "cell_type": "code",
   "execution_count": 12,
   "outputs": [
    {
     "data": {
      "text/plain": "tensor(0.0760, device='cuda:0')"
     },
     "execution_count": 12,
     "metadata": {},
     "output_type": "execute_result"
    }
   ],
   "source": [
    "trainer = sMNISTEsnClassifier(1, hidden_dim=30,\n",
    "                              omega=0.5,\n",
    "                              spectral_radius=1.3,\n",
    "                              leakage_rate=0.01,\n",
    "                              tikhonov=0.000001,\n",
    "                              device=\"cuda\")\n",
    "trainer.fit(tr_x, tr_y)"
   ],
   "metadata": {
    "collapsed": false,
    "ExecuteTime": {
     "end_time": "2023-07-01T17:11:49.431134200Z",
     "start_time": "2023-07-01T17:11:48.930719400Z"
    }
   }
  },
  {
   "cell_type": "code",
   "execution_count": 13,
   "outputs": [
    {
     "name": "stdout",
     "output_type": "stream",
     "text": [
      "0.45408\n"
     ]
    }
   ],
   "source": [
    "acc, _ = trainer.predict(tr_x, tr_y)\n",
    "print(acc)"
   ],
   "metadata": {
    "collapsed": false,
    "ExecuteTime": {
     "end_time": "2023-07-01T17:11:51.947899500Z",
     "start_time": "2023-07-01T17:11:50.804059Z"
    }
   }
  },
  {
   "cell_type": "markdown",
   "source": [],
   "metadata": {
    "collapsed": false
   }
  }
 ],
 "metadata": {
  "kernelspec": {
   "display_name": "Python 3",
   "language": "python",
   "name": "python3"
  },
  "language_info": {
   "codemirror_mode": {
    "name": "ipython",
    "version": 2
   },
   "file_extension": ".py",
   "mimetype": "text/x-python",
   "name": "python",
   "nbconvert_exporter": "python",
   "pygments_lexer": "ipython2",
   "version": "2.7.6"
  }
 },
 "nbformat": 4,
 "nbformat_minor": 0
}

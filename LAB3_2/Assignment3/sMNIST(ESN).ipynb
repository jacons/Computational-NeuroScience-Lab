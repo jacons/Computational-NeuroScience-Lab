{
 "cells": [
  {
   "cell_type": "markdown",
   "source": [
    "# Bonus-Track Assignment 3: Sequential MNIST classification task wih ESN\n",
    "\n",
    "Solve the sequential MNIST classification problem with an ESN (see details on this task from previous lab assignment files)."
   ],
   "metadata": {
    "collapsed": false
   }
  },
  {
   "cell_type": "markdown",
   "source": [
    "## Libraries"
   ],
   "metadata": {
    "collapsed": false
   }
  },
  {
   "cell_type": "code",
   "execution_count": 1,
   "outputs": [],
   "source": [
    "import os\n",
    "import copy\n",
    "\n",
    "from torch import cuda, Tensor\n",
    "from typing import Tuple\n",
    "from itertools import product\n",
    "\n",
    "# To work with Google colab\n",
    "#!wget https://raw.githubusercontent.com/jacons/Computational-NeuroScience-Lab/master/Utils/utils.py\n",
    "#!wget https://raw.githubusercontent.com/jacons/Computational-NeuroScience-Lab/master/LAB3_2/Assignment3/TorchEchoStateNetworks.py\n",
    "\n",
    "from Utils.utils import Sequential_mnist\n",
    "from LAB3_2.Assignment3.TorchEchoStateNetworks import sMNISTEsnClassifier"
   ],
   "metadata": {
    "collapsed": false,
    "ExecuteTime": {
     "end_time": "2023-07-02T12:27:27.278212800Z",
     "start_time": "2023-07-02T12:27:23.539845700Z"
    }
   }
  },
  {
   "cell_type": "code",
   "execution_count": 2,
   "outputs": [],
   "source": [
    "gpu = 'cuda' if cuda.is_available() else 'cpu'"
   ],
   "metadata": {
    "collapsed": false,
    "ExecuteTime": {
     "end_time": "2023-07-02T12:27:27.309461800Z",
     "start_time": "2023-07-02T12:27:27.278212800Z"
    }
   }
  },
  {
   "cell_type": "markdown",
   "source": [
    "## Grid-search function"
   ],
   "metadata": {
    "collapsed": false
   }
  },
  {
   "cell_type": "code",
   "execution_count": 3,
   "outputs": [],
   "source": [
    "class GridSearch:\n",
    "\n",
    "    def __init__(self,parameters_grid:dict, tr:Tuple[Tensor,Tensor], dev:Tuple[Tensor,Tensor]):\n",
    "\n",
    "        all_configs = [dict(zip(parameters_grid.keys(), configs)) for configs in product(*parameters_grid.values())]\n",
    "\n",
    "        print(\"Number of configurations to try: \",len(all_configs))\n",
    "\n",
    "        \"\"\"\n",
    "        Returns the performance in each configuration:\n",
    "\n",
    "            rank = a list of results for each configuration\n",
    "            best = best model used to final retrain\n",
    "            loss = training loss history of the best model\n",
    "        \"\"\"\n",
    "        rank, best = self.run(tr, dev, all_configs)\n",
    "\n",
    "        # we sort by validation loss\n",
    "        rank = sorted(rank, key=lambda conf: -conf[2])\n",
    "\n",
    "        print(\"\\nThe best solution in \", rank[0])\n",
    "        self.best_config = rank[0][0]\n",
    "        self.best_model = best\n",
    "\n",
    "    @staticmethod\n",
    "    def run(tr:Tuple[Tensor,Tensor], dev:Tuple[Tensor,Tensor], configs:list):\n",
    "        \"\"\"\n",
    "        In the grid search, we explore all configurations provided and try to find the best\n",
    "        hyperparameter configuration using the training set to train the model and the validation\n",
    "        set to compare the performance among all models instantiated by configurations.\n",
    "        \"\"\"\n",
    "\n",
    "        rank = [] # the keep in track the configuration and the corresponding performance\n",
    "\n",
    "        # we save the best trained model and the training loss during the epochs\n",
    "        best, loss = None, None\n",
    "        best_dev_acc = 0\n",
    "\n",
    "        for idx, config in enumerate(configs):\n",
    "            print(\"Config: \",idx)\n",
    "\n",
    "            trainer = sMNISTEsnClassifier(1, hidden_dim=config[\"units\"],\n",
    "                                          omega=config[\"omega\"],\n",
    "                                          spectral_radius=config[\"radius\"],\n",
    "                                          leakage_rate=config[\"leakage\"],\n",
    "                                          tikhonov=config[\"tikhonov\"],\n",
    "                                          device=gpu)\n",
    "\n",
    "            acc_tr = trainer.fit(*tr)\n",
    "            acc_vl, _  = trainer.predict(*dev)\n",
    "\n",
    "            rank.append((config, round(acc_tr, 4), round(acc_vl, 4)))\n",
    "\n",
    "            print(f'Results: Acc tr: {round(acc_tr, 4)}', f'Acc vl: {round(acc_vl, 4)}')\n",
    "\n",
    "            # we keep the best model\n",
    "            if best_dev_acc < acc_vl:\n",
    "                best_dev_acc = acc_vl\n",
    "                best = copy.deepcopy(trainer)\n",
    "\n",
    "        return rank, best"
   ],
   "metadata": {
    "collapsed": false,
    "ExecuteTime": {
     "end_time": "2023-07-02T12:27:27.325077800Z",
     "start_time": "2023-07-02T12:27:27.309461800Z"
    }
   }
  },
  {
   "cell_type": "markdown",
   "source": [
    "## Retrieve the dataset and Hold out"
   ],
   "metadata": {
    "collapsed": false
   }
  },
  {
   "cell_type": "code",
   "execution_count": 4,
   "outputs": [],
   "source": [
    "tr_dataset = Sequential_mnist(\"train\", root=\".\\..\\..\\Sources\\MNIST\", one_hot_encoding=True)\n",
    "dev_dataset = Sequential_mnist(\"dev\", root=\".\\..\\..\\Sources\\MNIST\", one_hot_encoding=True)\n",
    "ts_dataset = Sequential_mnist(\"test\", root=\".\\..\\..\\Sources\\MNIST\", one_hot_encoding=True)\n",
    "\n",
    "tr_dataset = (tr_dataset.data.transpose_(0,1).to(gpu), tr_dataset.target.float().to(gpu))\n",
    "dev_dataset = (dev_dataset.data.transpose_(0,1).to(gpu), dev_dataset.target.float().to(gpu))\n",
    "ts_dataset = (ts_dataset.data.transpose_(0,1).to(gpu), ts_dataset.target.float().to(gpu))"
   ],
   "metadata": {
    "collapsed": false,
    "ExecuteTime": {
     "end_time": "2023-07-02T12:27:27.658031700Z",
     "start_time": "2023-07-02T12:27:27.325077800Z"
    }
   }
  },
  {
   "cell_type": "markdown",
   "source": [
    "## Grid search of Classifier based on Echo State Network"
   ],
   "metadata": {
    "collapsed": false
   }
  },
  {
   "cell_type": "code",
   "execution_count": 5,
   "outputs": [],
   "source": [
    "ranges_to_explore = {\n",
    "    \"units\" : [200, 300, 400],\n",
    "    \"omega\" : [0.8, 1],\n",
    "    \"radius\" : [1.5, 2, 5, 7, 9],\n",
    "    \"leakage\": [0.01, 0.03],\n",
    "    \"tikhonov\" : [1e-06]\n",
    "}"
   ],
   "metadata": {
    "collapsed": false,
    "ExecuteTime": {
     "end_time": "2023-07-02T12:27:27.678233500Z",
     "start_time": "2023-07-02T12:27:27.658031700Z"
    }
   }
  },
  {
   "cell_type": "code",
   "execution_count": 6,
   "outputs": [
    {
     "name": "stdout",
     "output_type": "stream",
     "text": [
      "Number of configurations to try:  60\n",
      "Config:  0\n",
      "Results: Acc tr: 0.4774 Acc vl: 0.485\n",
      "Config:  1\n",
      "Results: Acc tr: 0.5333 Acc vl: 0.5524\n",
      "Config:  2\n",
      "Results: Acc tr: 0.4865 Acc vl: 0.4994\n",
      "Config:  3\n",
      "Results: Acc tr: 0.5443 Acc vl: 0.5678\n",
      "Config:  4\n",
      "Results: Acc tr: 0.5757 Acc vl: 0.5986\n",
      "Config:  5\n",
      "Results: Acc tr: 0.4055 Acc vl: 0.4125\n",
      "Config:  6\n",
      "Results: Acc tr: 0.5841 Acc vl: 0.6047\n",
      "Config:  7\n",
      "Results: Acc tr: 0.2997 Acc vl: 0.2906\n",
      "Config:  8\n",
      "Results: Acc tr: 0.5741 Acc vl: 0.599\n",
      "Config:  9\n",
      "Results: Acc tr: 0.3037 Acc vl: 0.301\n",
      "Config:  10\n",
      "Results: Acc tr: 0.3682 Acc vl: 0.3738\n",
      "Config:  11\n",
      "Results: Acc tr: 0.3827 Acc vl: 0.3926\n",
      "Config:  12\n",
      "Results: Acc tr: 0.4717 Acc vl: 0.4831\n",
      "Config:  13\n",
      "Results: Acc tr: 0.6117 Acc vl: 0.6377\n",
      "Config:  14\n",
      "Results: Acc tr: 0.6095 Acc vl: 0.6198\n",
      "Config:  15\n",
      "Results: Acc tr: 0.5121 Acc vl: 0.5273\n",
      "Config:  16\n",
      "Results: Acc tr: 0.5875 Acc vl: 0.6052\n",
      "Config:  17\n",
      "Results: Acc tr: 0.3149 Acc vl: 0.3155\n",
      "Config:  18\n",
      "Results: Acc tr: 0.5065 Acc vl: 0.5135\n",
      "Config:  19\n",
      "Results: Acc tr: 0.2376 Acc vl: 0.2315\n",
      "Config:  20\n",
      "Results: Acc tr: 0.4676 Acc vl: 0.4732\n",
      "Config:  21\n",
      "Results: Acc tr: 0.4927 Acc vl: 0.5085\n",
      "Config:  22\n",
      "Results: Acc tr: 0.4794 Acc vl: 0.4898\n",
      "Config:  23\n",
      "Results: Acc tr: 0.5369 Acc vl: 0.5655\n",
      "Config:  24\n",
      "Results: Acc tr: 0.555 Acc vl: 0.5774\n",
      "Config:  25\n",
      "Results: Acc tr: 0.4566 Acc vl: 0.459\n",
      "Config:  26\n",
      "Results: Acc tr: 0.6148 Acc vl: 0.6394\n",
      "Config:  27\n",
      "Results: Acc tr: 0.3751 Acc vl: 0.3774\n",
      "Config:  28\n",
      "Results: Acc tr: 0.5899 Acc vl: 0.6143\n",
      "Config:  29\n",
      "Results: Acc tr: 0.3121 Acc vl: 0.3055\n",
      "Config:  30\n",
      "Results: Acc tr: 0.4328 Acc vl: 0.4439\n",
      "Config:  31\n",
      "Results: Acc tr: 0.4688 Acc vl: 0.4797\n",
      "Config:  32\n",
      "Results: Acc tr: 0.4798 Acc vl: 0.491\n",
      "Config:  33\n",
      "Results: Acc tr: 0.6567 Acc vl: 0.6797\n",
      "Config:  34\n",
      "Results: Acc tr: 0.6008 Acc vl: 0.6164\n",
      "Config:  35\n",
      "Results: Acc tr: 0.3697 Acc vl: 0.3729\n",
      "Config:  36\n",
      "Results: Acc tr: 0.6358 Acc vl: 0.6542\n",
      "Config:  37\n",
      "Results: Acc tr: 0.3413 Acc vl: 0.3187\n",
      "Config:  38\n",
      "Results: Acc tr: 0.6084 Acc vl: 0.6298\n",
      "Config:  39\n",
      "Results: Acc tr: 0.2724 Acc vl: 0.2557\n",
      "Config:  40\n",
      "Results: Acc tr: 0.4393 Acc vl: 0.4474\n",
      "Config:  41\n",
      "Results: Acc tr: 0.4899 Acc vl: 0.5021\n",
      "Config:  42\n",
      "Results: Acc tr: 0.4746 Acc vl: 0.4818\n",
      "Config:  43\n",
      "Results: Acc tr: 0.5261 Acc vl: 0.5463\n",
      "Config:  44\n",
      "Results: Acc tr: 0.5869 Acc vl: 0.6058\n",
      "Config:  45\n",
      "Results: Acc tr: 0.4871 Acc vl: 0.4912\n",
      "Config:  46\n",
      "Results: Acc tr: 0.6373 Acc vl: 0.6602\n",
      "Config:  47\n",
      "Results: Acc tr: 0.3584 Acc vl: 0.3375\n",
      "Config:  48\n",
      "Results: Acc tr: 0.571 Acc vl: 0.5877\n",
      "Config:  49\n",
      "Results: Acc tr: 0.3085 Acc vl: 0.29\n",
      "Config:  50\n",
      "Results: Acc tr: 0.376 Acc vl: 0.3848\n",
      "Config:  51\n",
      "Results: Acc tr: 0.4741 Acc vl: 0.4877\n",
      "Config:  52\n",
      "Results: Acc tr: 0.4708 Acc vl: 0.4813\n",
      "Config:  53\n",
      "Results: Acc tr: 0.5532 Acc vl: 0.5769\n",
      "Config:  54\n",
      "Results: Acc tr: 0.5778 Acc vl: 0.5968\n",
      "Config:  55\n",
      "Results: Acc tr: 0.4691 Acc vl: 0.4636\n",
      "Config:  56\n",
      "Results: Acc tr: 0.6535 Acc vl: 0.6788\n",
      "Config:  57\n",
      "Results: Acc tr: 0.3602 Acc vl: 0.3466\n",
      "Config:  58\n",
      "Results: Acc tr: 0.6322 Acc vl: 0.645\n",
      "Config:  59\n",
      "Results: Acc tr: 0.2692 Acc vl: 0.2385\n",
      "\n",
      "The best solution in  ({'units': 300, 'omega': 1, 'radius': 2, 'leakage': 0.03, 'tikhonov': 1e-06}, 0.6567, 0.6797)\n"
     ]
    }
   ],
   "source": [
    "gs = GridSearch(ranges_to_explore, tr_dataset, dev_dataset)\n",
    "best_config =  gs.best_config\n",
    "best_model = gs.best_model"
   ],
   "metadata": {
    "collapsed": false,
    "ExecuteTime": {
     "end_time": "2023-07-02T12:34:57.882287700Z",
     "start_time": "2023-07-02T12:27:27.678233500Z"
    }
   }
  },
  {
   "cell_type": "code",
   "execution_count": 7,
   "outputs": [
    {
     "name": "stdout",
     "output_type": "stream",
     "text": [
      "Accuracy: 0.6567\n",
      "Accuracy: 0.6797\n",
      "Accuracy: 0.661\n"
     ]
    }
   ],
   "source": [
    "tr_acc, _ = best_model.predict(*tr_dataset)\n",
    "print(f'Accuracy: {round(tr_acc, 4)}')\n",
    "\n",
    "dev_acc, _ = best_model.predict(*dev_dataset)\n",
    "print(f'Accuracy: {round(dev_acc, 4)}')\n",
    "\n",
    "test_acc, _ = best_model.predict(*ts_dataset)\n",
    "print(f'Accuracy: {round(test_acc, 4)}')"
   ],
   "metadata": {
    "collapsed": false,
    "ExecuteTime": {
     "end_time": "2023-07-02T12:35:06.319468Z",
     "start_time": "2023-07-02T12:34:57.882287700Z"
    }
   }
  },
  {
   "cell_type": "markdown",
   "source": [
    "### Final retrain with Training and Validation set (with the best configuration)"
   ],
   "metadata": {
    "collapsed": false
   }
  },
  {
   "cell_type": "code",
   "execution_count": 8,
   "outputs": [
    {
     "name": "stdout",
     "output_type": "stream",
     "text": [
      "Accuracy: 0.5555\n",
      "Accuracy: 0.555\n"
     ]
    }
   ],
   "source": [
    "final_model = sMNISTEsnClassifier(1, hidden_dim=best_config[\"units\"],\n",
    "                                  omega=best_config[\"omega\"],\n",
    "                                  spectral_radius=best_config[\"radius\"],\n",
    "                                  leakage_rate=best_config[\"leakage\"],\n",
    "                                  tikhonov=best_config[\"tikhonov\"],\n",
    "                                  device=gpu)\n",
    "\n",
    "final_tr = Sequential_mnist(\"train-dev\", root=\".\\..\\..\\Sources\\MNIST\", one_hot_encoding=True)\n",
    "final_tr = (final_tr.data.transpose_(0,1).to(gpu), final_tr.target.float().to(gpu))\n",
    "\n",
    "tr_acc = final_model.fit(*final_tr)\n",
    "\n",
    "print(f'Accuracy: {round(tr_acc, 4)}')\n",
    "\n",
    "test_acc, _  = final_model.predict(*ts_dataset)\n",
    "print(f'Accuracy: {round(test_acc, 4)}')"
   ],
   "metadata": {
    "collapsed": false,
    "ExecuteTime": {
     "end_time": "2023-07-02T12:35:15.185649300Z",
     "start_time": "2023-07-02T12:35:06.319468Z"
    }
   }
  }
 ],
 "metadata": {
  "kernelspec": {
   "display_name": "Python 3",
   "language": "python",
   "name": "python3"
  },
  "language_info": {
   "codemirror_mode": {
    "name": "ipython",
    "version": 2
   },
   "file_extension": ".py",
   "mimetype": "text/x-python",
   "name": "python",
   "nbconvert_exporter": "python",
   "pygments_lexer": "ipython2",
   "version": "2.7.6"
  }
 },
 "nbformat": 4,
 "nbformat_minor": 0
}

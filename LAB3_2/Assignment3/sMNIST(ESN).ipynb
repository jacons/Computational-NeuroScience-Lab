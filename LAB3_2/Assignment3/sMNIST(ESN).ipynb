{
 "cells": [
  {
   "cell_type": "markdown",
   "source": [
    "# Bonus-Track Assignment 3: Sequential MNIST classification task wih ESN\n",
    "\n",
    "Solve the sequential MNIST classification problem with an ESN (see details on this task from previous lab assignment files)."
   ],
   "metadata": {
    "collapsed": false
   }
  },
  {
   "cell_type": "code",
   "execution_count": null,
   "metadata": {
    "collapsed": true
   },
   "outputs": [],
   "source": []
  }
 ],
 "metadata": {
  "kernelspec": {
   "display_name": "Python 3",
   "language": "python",
   "name": "python3"
  },
  "language_info": {
   "codemirror_mode": {
    "name": "ipython",
    "version": 2
   },
   "file_extension": ".py",
   "mimetype": "text/x-python",
   "name": "python",
   "nbconvert_exporter": "python",
   "pygments_lexer": "ipython2",
   "version": "2.7.6"
  }
 },
 "nbformat": 4,
 "nbformat_minor": 0
}

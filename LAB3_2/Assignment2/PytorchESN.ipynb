{
 "cells": [
  {
   "cell_type": "markdown",
   "source": [
    "# Bonus-track Assignment 2: Custom Python implementation\n",
    "\n",
    "Implement the Echo State Network as a custom TensorFlow/Keras or PyTorch model. Pay attention to the efficiency of the implementation (e.g., you don’t need to re-calculate the states you have already computed). Consider the possibility of using scikit-learn models for the readout. Solve the previous (and following) problems with the custom python code obtained in this way."
   ],
   "metadata": {
    "collapsed": false
   }
  },
  {
   "cell_type": "code",
   "execution_count": null,
   "metadata": {
    "collapsed": true
   },
   "outputs": [],
   "source": []
  }
 ],
 "metadata": {
  "kernelspec": {
   "display_name": "Python 3",
   "language": "python",
   "name": "python3"
  },
  "language_info": {
   "codemirror_mode": {
    "name": "ipython",
    "version": 2
   },
   "file_extension": ".py",
   "mimetype": "text/x-python",
   "name": "python",
   "nbconvert_exporter": "python",
   "pygments_lexer": "ipython2",
   "version": "2.7.6"
  }
 },
 "nbformat": 4,
 "nbformat_minor": 0
}

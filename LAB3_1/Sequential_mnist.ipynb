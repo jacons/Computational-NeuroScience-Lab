{
 "cells": [
  {
   "cell_type": "code",
   "execution_count": 1,
   "outputs": [],
   "source": [
    "import torch, copy, sys\n",
    "from torch import Tensor,zeros\n",
    "from torch.nn import Module, RNN, GRU, LSTM, Linear, CrossEntropyLoss\n",
    "from torch.nn.utils import clip_grad_norm_\n",
    "from torch.optim.adam import Adam\n",
    "from torch.utils.data import Dataset, DataLoader\n",
    "\n",
    "from tqdm import tqdm\n",
    "from typing import Tuple\n",
    "from itertools import product\n",
    "\n",
    "from LAB3_1.utils import compute_acc, show_loss, Sequential_mnist\n",
    "gpu = 'cuda' if torch.cuda.is_available() else 'cpu'"
   ],
   "metadata": {
    "collapsed": false,
    "ExecuteTime": {
     "end_time": "2023-06-17T18:25:38.284519200Z",
     "start_time": "2023-06-17T18:25:35.489876300Z"
    }
   }
  },
  {
   "cell_type": "markdown",
   "source": [
    "### Model"
   ],
   "metadata": {
    "collapsed": false
   }
  },
  {
   "cell_type": "code",
   "execution_count": 2,
   "outputs": [],
   "source": [
    "class Recurrent_RNN(Module):\n",
    "    def __init__(self,rnn_type:str, hidden: int, layers:int, bi:bool):\n",
    "\n",
    "        super(Recurrent_RNN, self).__init__()\n",
    "\n",
    "        self.criteria = CrossEntropyLoss()\n",
    "\n",
    "        if rnn_type == \"RNN\":\n",
    "            self.rnn = RNN(1, hidden, num_layers=layers, bidirectional=bi, batch_first=True)\n",
    "        elif rnn_type == \"LSTM\":\n",
    "            self.rnn = LSTM(1, hidden, num_layers=layers, bidirectional=bi, batch_first=True)\n",
    "        elif rnn_type == \"GRU\":\n",
    "            self.rnn = GRU(1, hidden, num_layers=layers, bidirectional=bi, batch_first=True)\n",
    "\n",
    "        B = 2 if bi else 1\n",
    "        self.readout = Linear(B * hidden, 10)\n",
    "\n",
    "    def forward(self, x: Tensor, y:Tensor) -> Tensor:\n",
    "\n",
    "        out, _ = self.rnn(x)\n",
    "        y_pred =  self.readout(out[:,-1,:])\n",
    "\n",
    "        loss = None\n",
    "        if y is not None:\n",
    "            loss = self.criteria(y_pred, y)\n",
    "        return (loss, y_pred) if loss is not None else y_pred"
   ],
   "metadata": {
    "collapsed": false,
    "ExecuteTime": {
     "end_time": "2023-06-17T18:25:38.298502400Z",
     "start_time": "2023-06-17T18:25:38.289519300Z"
    }
   }
  },
  {
   "cell_type": "code",
   "execution_count": 3,
   "outputs": [],
   "source": [
    "class RNN_trainer:\n",
    "    def __init__(self, rnn_type:str, hidden:int, layers:int, bi:bool):\n",
    "\n",
    "        # model\n",
    "        self.model = Recurrent_RNN(rnn_type, hidden=hidden, layers=layers, bi=bi).to(gpu)\n",
    "\n",
    "    def fit(self, dataset:Dataset, epochs:int=2, lr:float=0.001)->Tuple[Tensor,Tensor]:\n",
    "\n",
    "        loader = DataLoader(dataset, batch_size=64)\n",
    "        opt = Adam(self.model.parameters(), lr)\n",
    "\n",
    "        loss, y, y_pred = 0, None, None\n",
    "        history_tr, accuracy_tr = zeros(epochs), zeros(epochs)\n",
    "\n",
    "        self.model.train()\n",
    "        for epoch in tqdm(range(epochs)):\n",
    "\n",
    "            for x, y in loader:\n",
    "                x,y = x.to(gpu), y.to(gpu)\n",
    "\n",
    "                opt.zero_grad()\n",
    "                loss, y_pred = self.model(x, y)\n",
    "                loss.backward()\n",
    "                clip_grad_norm_(self.model.parameters(), 1.5)\n",
    "                opt.step()\n",
    "\n",
    "            history_tr[epoch] = loss.item()\n",
    "            accuracy_tr[epoch] = compute_acc(y_pred,y)\n",
    "            if epoch % 5 == 0:\n",
    "                print(f'Epoch {epoch} Loss: {loss}', f'Accuracy: {accuracy_tr[epoch]}', sep='\\t')\n",
    "\n",
    "        return history_tr, accuracy_tr\n",
    "\n",
    "    def validate(self, dataset:Dataset) -> Tuple:\n",
    "\n",
    "        loader = DataLoader(dataset, batch_size=64)\n",
    "        cum_loss, cum_acc = 0, 0\n",
    "\n",
    "        self.model.eval()\n",
    "        with torch.no_grad():\n",
    "            for x, y in loader:\n",
    "                x,y = x.to(gpu), y.to(gpu)\n",
    "                loss, y_pred = self.model(x, y)\n",
    "                cum_loss += loss.item()\n",
    "                cum_acc += compute_acc(y_pred, y)\n",
    "\n",
    "        cum_loss /= len(loader)\n",
    "        cum_acc /= len(loader)\n",
    "\n",
    "        return  cum_loss, cum_acc\n"
   ],
   "metadata": {
    "collapsed": false,
    "ExecuteTime": {
     "end_time": "2023-06-17T18:25:38.316521Z",
     "start_time": "2023-06-17T18:25:38.308507300Z"
    }
   }
  },
  {
   "cell_type": "code",
   "execution_count": 4,
   "outputs": [],
   "source": [
    "ranges_to_explore = {\n",
    "    \"units\" : [15],\n",
    "    \"epochs\" : [5],\n",
    "    \"lr\" : [0.001, 0.004],\n",
    "    \"layers\": [1, 2],\n",
    "    \"bi\" : [True]\n",
    "}\n",
    "\n",
    "class GridSearch:\n",
    "\n",
    "    def __init__(self, rnn_type:str, tr:Dataset, dev:Dataset):\n",
    "\n",
    "        self.rnn_type = rnn_type\n",
    "        all_configs = [dict(zip(ranges_to_explore.keys(), configs)) for configs in product(*ranges_to_explore.values())]\n",
    "\n",
    "        print(\"Number of configurations to try: \",len(all_configs))\n",
    "        # returns the performance in each configuration, the best model and the history of the loss\n",
    "        rank, best, loss = self.run(tr, dev, [all_configs[0]])\n",
    "\n",
    "        # we sort by validation loss\n",
    "        rank = sorted(rank, key=lambda conf: conf[2])\n",
    "\n",
    "        print(\"\\nThe best solution in \", rank[0])\n",
    "        self.best_config = rank[0][0]\n",
    "        self.best_model = best\n",
    "        self.tr_loss = loss\n",
    "\n",
    "    def run(self, tr:Dataset, dev:Dataset, configs:list):\n",
    "        \"\"\"\n",
    "        In the grid search, we explore all configurations provided and try to find the best\n",
    "        hyperparameter configuration using the training set to train the model and the validation\n",
    "        set to compare the performance among all models instantiated by configurations.\n",
    "        \"\"\"\n",
    "\n",
    "        rank = [] # the keep in track the configuration and the corresponding performance\n",
    "\n",
    "        # we save the best trained model and the training loss during the epochs\n",
    "        best, loss = None, None\n",
    "        best_dev_loss = -sys.maxsize\n",
    "\n",
    "        for idx, config in enumerate(configs):\n",
    "            print(\"Config: \",idx)\n",
    "\n",
    "            trainer = RNN_trainer(rnn_type=self.rnn_type,\n",
    "                                  hidden=config[\"units\"],\n",
    "                                  layers=config[\"layers\"],\n",
    "                                  bi=config[\"bi\"])\n",
    "\n",
    "            history, acc_tr  = trainer.fit(tr, config[\"epochs\"], config[\"lr\"])\n",
    "            _, acc_vl = trainer.validate(dev)\n",
    "            rank.append((config, round(acc_tr[-1].item(), 6), round(acc_vl, 6)))\n",
    "\n",
    "            # we keep the best model\n",
    "            if best_dev_loss < acc_vl:\n",
    "                best_dev_loss = acc_vl\n",
    "                loss = copy.deepcopy(history)\n",
    "                best = copy.deepcopy(trainer)\n",
    "\n",
    "        return rank, best, loss"
   ],
   "metadata": {
    "collapsed": false,
    "ExecuteTime": {
     "end_time": "2023-06-17T18:25:38.329508900Z",
     "start_time": "2023-06-17T18:25:38.323516300Z"
    }
   }
  },
  {
   "cell_type": "markdown",
   "source": [
    "### Bonus-Track Assignment 2: Sequential MNIST classification task"
   ],
   "metadata": {
    "collapsed": false
   }
  },
  {
   "cell_type": "code",
   "execution_count": 10,
   "outputs": [],
   "source": [
    "tr_dataset, dev_dataset,ts_dataset = Sequential_mnist(\"train\"), Sequential_mnist(\"dev\"), Sequential_mnist(\"test\")"
   ],
   "metadata": {
    "collapsed": false,
    "ExecuteTime": {
     "end_time": "2023-06-17T18:28:38.377590500Z",
     "start_time": "2023-06-17T18:28:37.988592400Z"
    }
   }
  },
  {
   "cell_type": "code",
   "execution_count": 5,
   "outputs": [
    {
     "name": "stdout",
     "output_type": "stream",
     "text": [
      "Number of configurations to try:  4\n",
      "Config:  0\n"
     ]
    },
    {
     "name": "stderr",
     "output_type": "stream",
     "text": [
      " 20%|██        | 1/5 [00:05<00:20,  5.21s/it]"
     ]
    },
    {
     "name": "stdout",
     "output_type": "stream",
     "text": [
      "Epoch 0 Loss: 2.328359365463257\tAccuracy: 0.0\n"
     ]
    },
    {
     "name": "stderr",
     "output_type": "stream",
     "text": [
      "100%|██████████| 5/5 [00:25<00:00,  5.01s/it]\n"
     ]
    },
    {
     "name": "stdout",
     "output_type": "stream",
     "text": [
      "\n",
      "The best solution in  ({'units': 15, 'epochs': 5, 'lr': 0.001, 'layers': 1, 'bi': True}, 0.375, 0.34574)\n"
     ]
    }
   ],
   "source": [
    "gs = GridSearch(\"LSTM\", tr_dataset, dev_dataset)\n",
    "best_config =  gs.best_config\n",
    "best_model = gs.best_model"
   ],
   "metadata": {
    "collapsed": false,
    "ExecuteTime": {
     "end_time": "2023-06-17T18:26:06.059393400Z",
     "start_time": "2023-06-17T18:25:38.333501700Z"
    }
   }
  },
  {
   "cell_type": "code",
   "execution_count": 7,
   "outputs": [
    {
     "data": {
      "text/plain": "<Figure size 500x400 with 1 Axes>",
      "image/png": "[encoded data removed]"
     },
     "metadata": {},
     "output_type": "display_data"
    }
   ],
   "source": [
    "show_loss(gs.tr_loss)"
   ],
   "metadata": {
    "collapsed": false,
    "ExecuteTime": {
     "end_time": "2023-06-17T18:26:06.305032900Z",
     "start_time": "2023-06-17T18:26:06.078394300Z"
    }
   }
  },
  {
   "cell_type": "code",
   "execution_count": 15,
   "outputs": [
    {
     "name": "stdout",
     "output_type": "stream",
     "text": [
      "Train loss: 1.716066 Accuracy: 0.34\n",
      "Train loss: 1.690229 Accuracy: 0.346\n",
      "Train loss: 1.727132 Accuracy: 0.327\n"
     ]
    }
   ],
   "source": [
    "tr_loss, tr_acc = best_model.validate(tr_dataset)\n",
    "print(f'Train loss: {round(tr_loss, 6)}', f'Accuracy: {round(tr_acc, 3)}')\n",
    "\n",
    "dev_loss, dev_acc = best_model.validate(dev_dataset)\n",
    "print(f'Train loss: {round(dev_loss, 6)}', f'Accuracy: {round(dev_acc, 3)}')\n",
    "\n",
    "test_loss, test_acc = best_model.validate(ts_dataset)\n",
    "print(f'Train loss: {round(test_loss, 6)}', f'Accuracy: {round(test_acc, 3)}')"
   ],
   "metadata": {
    "collapsed": false,
    "ExecuteTime": {
     "end_time": "2023-06-17T18:31:04.369630100Z",
     "start_time": "2023-06-17T18:31:00.704628Z"
    }
   }
  },
  {
   "cell_type": "code",
   "execution_count": 8,
   "outputs": [],
   "source": [
    "# def train(model:Module,dataset:Dataset,lr:float,epochs):\n",
    "#\n",
    "#     optimizer = Adam(model.parameters(),lr=lr)\n",
    "#     criterion = CrossEntropyLoss()\n",
    "#\n",
    "#     loader = DataLoader(dataset, batch_size=64)\n",
    "#     for epoch in tqdm(range(epochs)):\n",
    "#         for x, y in loader:\n",
    "#             x,y = x.to(gpu), y.to(gpu)\n",
    "#\n",
    "#             optimizer.zero_grad()\n",
    "#             loss, y_pred = model(x, y)\n",
    "#             loss.backward()\n",
    "#             clip_grad_norm_(model.parameters(), 1)\n",
    "#             optimizer.step()\n",
    "#\n",
    "#         if epoch % 5 == 0:\n",
    "#             print(f'Epoch {epoch} Loss: {loss}', f'Accuracy: {compute_acc(y_pred,y)}', sep='\\t')"
   ],
   "metadata": {
    "collapsed": false,
    "ExecuteTime": {
     "end_time": "2023-06-17T18:26:06.357035100Z",
     "start_time": "2023-06-17T18:26:06.307038800Z"
    }
   }
  },
  {
   "cell_type": "code",
   "execution_count": 9,
   "outputs": [],
   "source": [
    "#\n",
    "# dr_tr = Sequential_mnist(True)\n",
    "# train(Recurrent_RNN(\"LSTM\", 10, 2, True).to(gpu), dr_tr, 0.001, 128)"
   ],
   "metadata": {
    "collapsed": false,
    "ExecuteTime": {
     "end_time": "2023-06-17T18:26:06.358034500Z",
     "start_time": "2023-06-17T18:26:06.323053700Z"
    }
   }
  }
 ],
 "metadata": {
  "kernelspec": {
   "display_name": "Python 3",
   "language": "python",
   "name": "python3"
  },
  "language_info": {
   "codemirror_mode": {
    "name": "ipython",
    "version": 2
   },
   "file_extension": ".py",
   "mimetype": "text/x-python",
   "name": "python",
   "nbconvert_exporter": "python",
   "pygments_lexer": "ipython2",
   "version": "2.7.6"
  }
 },
 "nbformat": 4,
 "nbformat_minor": 0
}

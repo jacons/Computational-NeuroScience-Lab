{
 "cells": [
  {
   "cell_type": "code",
   "execution_count": 44,
   "metadata": {
    "collapsed": true,
    "ExecuteTime": {
     "end_time": "2023-06-13T21:07:04.207319Z",
     "start_time": "2023-06-13T21:07:04.139101600Z"
    }
   },
   "outputs": [],
   "source": [
    "import torch\n",
    "from torch.nn import Flatten\n",
    "from torchvision.datasets import MNIST\n",
    "from torchvision.transforms import Compose, ToTensor, Normalize, Lambda\n",
    "from torch.utils.data import DataLoader\n",
    "\n",
    "transformations = Compose([ToTensor(),\n",
    "                           Normalize([0.5], [0.5]),\n",
    "                           Flatten(),\n",
    "                           Lambda(lambda img: torch.transpose(img,0,1))])\n",
    "\n",
    "mnist_data = MNIST(root=\"sources\", download=True, train=True, transform=transformations)"
   ]
  },
  {
   "cell_type": "code",
   "execution_count": 56,
   "outputs": [],
   "source": [
    "from torch import Tensor\n",
    "from torch.nn import Module, RNN, Sequential, ReLU, Linear, Tanh, Softmax, CrossEntropyLoss\n",
    "\n",
    "\n",
    "# Recurrent Neural network\n",
    "class RecurrentNN(Module):\n",
    "    def __init__(self, hidden:int, layers:int, no_linearity:str=\"relu\"):\n",
    "\n",
    "        super(RecurrentNN,self).__init__()\n",
    "        self.hidden_size = hidden\n",
    "        self.layers = layers\n",
    "\n",
    "        self.rnn = RNN(input_size=1,\n",
    "                       hidden_size=hidden,\n",
    "                       num_layers=layers,\n",
    "                       nonlinearity=no_linearity,\n",
    "                       batch_first=True)\n",
    "\n",
    "        self.read_out = Sequential(ReLU(), Linear(hidden, 10), Tanh(), Softmax(dim=1))\n",
    "        self.criteria = CrossEntropyLoss() # Mean square error loss\n",
    "\n",
    "        self.last_hidden = None\n",
    "\n",
    "    def forward(self, x:Tensor, y:Tensor=None, save_state:bool=False):\n",
    "\n",
    "        output, _ = self.rnn(x)\n",
    "        y_pred = self.read_out(output[:, -1, :]) # we take the last step\n",
    "\n",
    "        loss = None\n",
    "        if y is not None:\n",
    "            loss = self.criteria(y_pred, y)\n",
    "        return (loss, y_pred.argmax(1)) if loss is not None else y_pred"
   ],
   "metadata": {
    "collapsed": false,
    "ExecuteTime": {
     "end_time": "2023-06-13T21:09:42.378012600Z",
     "start_time": "2023-06-13T21:09:42.376621100Z"
    }
   }
  },
  {
   "cell_type": "code",
   "execution_count": 57,
   "outputs": [
    {
     "name": "stdout",
     "output_type": "stream",
     "text": [
      "torch.Size([10, 784, 1]) torch.Size([10])\n",
      "tensor([6, 6, 6, 6, 6, 6, 6, 6, 6, 6])\n"
     ]
    }
   ],
   "source": [
    "loader = DataLoader(mnist_data, batch_size=10, shuffle=True)\n",
    "rnn = RecurrentNN(100,1)\n",
    "\n",
    "for i in range(0,10):\n",
    "    for img_seq, label in loader:\n",
    "\n",
    "        loss, output = rnn(img_seq,label)"
   ],
   "metadata": {
    "collapsed": false,
    "ExecuteTime": {
     "end_time": "2023-06-13T21:09:44.719527Z",
     "start_time": "2023-06-13T21:09:44.666120200Z"
    }
   }
  },
  {
   "cell_type": "code",
   "execution_count": 36,
   "outputs": [
    {
     "name": "stdout",
     "output_type": "stream",
     "text": [
      "torch.Size([3, 768, 100]) torch.Size([1, 3, 100])\n",
      "torch.Size([3, 10]) torch.Size([1, 3, 100])\n",
      "tensor([[-0.0750,  0.1466, -0.0766, -0.0539, -0.0256, -0.0681,  0.0234,  0.0989,\n",
      "          0.0811,  0.0197],\n",
      "        [-0.1121,  0.1839,  0.0368, -0.0843,  0.0686, -0.0572,  0.0466,  0.0676,\n",
      "         -0.0469,  0.0280],\n",
      "        [-0.0823,  0.1506,  0.0678, -0.0850,  0.0223, -0.0453,  0.0218,  0.0859,\n",
      "          0.0097,  0.0573]], grad_fn=<AddmmBackward0>)\n",
      "torch.Size([3, 10]) torch.Size([1, 3, 100])\n",
      "tensor([[0.0919, 0.1146, 0.0917, 0.0938, 0.0965, 0.0925, 0.1013, 0.1093, 0.1074,\n",
      "         0.1010],\n",
      "        [0.0879, 0.1182, 0.1020, 0.0904, 0.1053, 0.0929, 0.1030, 0.1052, 0.0938,\n",
      "         0.1011],\n",
      "        [0.0900, 0.1136, 0.1046, 0.0898, 0.0999, 0.0934, 0.0999, 0.1065, 0.0987,\n",
      "         0.1035]], grad_fn=<SoftmaxBackward0>)\n"
     ]
    }
   ],
   "source": [
    "# import torch\n",
    "# from torch import nn\n",
    "#\n",
    "# rnn = nn.RNN(1, 100, 1, batch_first=True) # x , hidden-node , layer\n",
    "# read_out = nn.Linear(100,10) # hidden-node , out-size\n",
    "# sf = nn.Softmax(dim=1)\n",
    "#\n",
    "# input = torch.randn(3, 768, 1) # batch, steps, dim_x\n",
    "# output, hn = rnn(input)\n",
    "#\n",
    "# print(output.shape, hn.shape) # batch, step, hidden // layer, batch, hidden\n",
    "# output = read_out(output[:,-1,:])\n",
    "# print(output.shape, hn.shape)\n",
    "# print(output)\n",
    "# output = sf(output)\n",
    "# print(output.shape, hn.shape)\n",
    "# print(output)\n"
   ],
   "metadata": {
    "collapsed": false,
    "ExecuteTime": {
     "end_time": "2023-06-13T21:00:07.593869500Z",
     "start_time": "2023-06-13T21:00:07.548263500Z"
    }
   }
  }
 ],
 "metadata": {
  "kernelspec": {
   "display_name": "Python 3",
   "language": "python",
   "name": "python3"
  },
  "language_info": {
   "codemirror_mode": {
    "name": "ipython",
    "version": 2
   },
   "file_extension": ".py",
   "mimetype": "text/x-python",
   "name": "python",
   "nbconvert_exporter": "python",
   "pygments_lexer": "ipython2",
   "version": "2.7.6"
  }
 },
 "nbformat": 4,
 "nbformat_minor": 0
}

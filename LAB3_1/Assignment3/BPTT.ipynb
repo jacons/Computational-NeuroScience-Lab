{
 "cells": [
  {
   "cell_type": "markdown",
   "source": [
    "# Bonus-Track Assignment 3: BackPropagation Through-Time algorithm from scratch\n",
    "\n",
    "Implement from scratch, e.g., with MATLAB or Numpy, the BackPropagation Through-Time algorithm for training an RNN to solve the above tasks on time-series. Notice that the BPTT derivation for the sequence transduction case (i.e., when you have an output at each input time-step, rather than an output at the end of the time-series) was left as an exercise."
   ],
   "metadata": {
    "collapsed": false
   }
  },
  {
   "cell_type": "markdown",
   "source": [
    "## Libraries"
   ],
   "metadata": {
    "collapsed": false
   }
  },
  {
   "cell_type": "code",
   "execution_count": null,
   "outputs": [],
   "source": [
    "import numpy as np\n",
    "\n",
    "# To work with Google colab\n",
    "#!wget https://raw.githubusercontent.com/jacons/Computational-NeuroScience-Lab/master/LAB3_1/utils.py\n",
    "#!wget https://raw.githubusercontent.com/jacons/Computational-NeuroScience-Lab/master/LAB3_1/Assignment3/bptt_neuralnetwork.py\n",
    "\n",
    "from LAB3_1.utils import Sequential_mnist, compute_acc,show_loss\n",
    "from LAB3_1.Assignment3.bptt_neuralnetwork import HandMadeRNN\n",
    "\n",
    "from numpy import linspace"
   ],
   "metadata": {
    "collapsed": false
   }
  },
  {
   "cell_type": "markdown",
   "source": [
    "## Retrieve Datasets and preprocessing"
   ],
   "metadata": {
    "collapsed": false
   }
  },
  {
   "cell_type": "code",
   "execution_count": null,
   "outputs": [],
   "source": [
    "# Get a training set-> return a Dataset class\n",
    "tr_dataset = Sequential_mnist(\"train\", root=\"..\\sources\\MNIST\")\n",
    "# take the effective data and the targets\n",
    "tr_x, tr_y = tr_dataset.data.numpy(), tr_dataset.target.numpy()\n",
    "# For simplicity, we take into consideration only 2 digits\n",
    "idx_tr = np.hstack([np.where(tr_y == 0)[0],np.where(tr_y == 1)[0]])\n",
    "np.random.shuffle(idx_tr) # we apply the Shuffling\n",
    "# select only the images that are as target 0 or 1\n",
    "tr_x, tr_y = tr_x[idx_tr], tr_y[idx_tr]\n",
    "\n",
    "# same preprocessing\n",
    "vl_dataset = Sequential_mnist(\"dev\", root=\"..\\sources\\MNIST\")\n",
    "vl_x, vl_y = vl_dataset.data.numpy(), vl_dataset.target.numpy()\n",
    "idx_vl = np.hstack([np.where(vl_y == 0)[0],np.where(vl_y == 1)[0]])\n",
    "np.random.shuffle(idx_vl)\n",
    "vl_x, vl_y = vl_x[idx_vl], vl_y[idx_vl]\n",
    "\n",
    "batch_size = 256\n",
    "batch_seq = linspace(0, tr_x.shape[0], int(tr_x.shape[0]/batch_size), dtype=int)"
   ],
   "metadata": {
    "collapsed": false
   }
  },
  {
   "cell_type": "code",
   "execution_count": null,
   "outputs": [],
   "source": [
    "rnn = HandMadeRNN(1, 2, hidden_dim=5, lr=0.001, clip=1)"
   ],
   "metadata": {
    "collapsed": false
   }
  },
  {
   "cell_type": "code",
   "execution_count": null,
   "outputs": [],
   "source": [
    "l_history,l_accuracy = [],[]\n",
    "\n",
    "nun_batches = len(batch_seq)\n",
    "for i in range(10):\n",
    "    for b in range(1, nun_batches):\n",
    "\n",
    "        x = tr_x[batch_seq[b-1]:batch_seq[b]-1]\n",
    "        y = tr_y[batch_seq[b-1]:batch_seq[b]-1]\n",
    "\n",
    "        y_pred, loss = rnn(x,y)\n",
    "\n",
    "        loss = round(loss/x.shape[0], 4)\n",
    "        acc = round(compute_acc(y_pred, y), 4)\n",
    "\n",
    "        l_history.append(loss)\n",
    "        l_accuracy.append(acc)\n",
    "\n",
    "        print(f\"Epoch {i} Batch {b}/{nun_batches} Loss {loss} Accuracy {acc}\")"
   ],
   "metadata": {
    "collapsed": false
   }
  },
  {
   "cell_type": "code",
   "execution_count": null,
   "outputs": [],
   "source": [
    "show_loss(l_history)"
   ],
   "metadata": {
    "collapsed": false
   }
  }
 ],
 "metadata": {
  "kernelspec": {
   "display_name": "Python 3",
   "language": "python",
   "name": "python3"
  },
  "language_info": {
   "codemirror_mode": {
    "name": "ipython",
    "version": 2
   },
   "file_extension": ".py",
   "mimetype": "text/x-python",
   "name": "python",
   "nbconvert_exporter": "python",
   "pygments_lexer": "ipython2",
   "version": "2.7.6"
  }
 },
 "nbformat": 4,
 "nbformat_minor": 0
}

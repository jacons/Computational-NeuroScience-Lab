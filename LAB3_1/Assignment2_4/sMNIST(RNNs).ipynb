{
 "cells": [
  {
   "cell_type": "markdown",
   "source": [
    "# Bonus-Track Assignment 2: Sequential MNIST classification task\n",
    "\n",
    "The MNIST dataset is a common dataset used in computer vision. It consists of 60000 images of 28x28 pixels of handwritten digits from 0 to 9. A strategy is to flatten the 28x28 pixels into 784 dimensional vectors and feed them as input to a multilayer perceptron. The Sequential MNIST task (sMNIST) is a challenging task devised to test the ability of an RNN model to learn long-term dependencies. The sMNIST consists of considering the flattened MNIST vectors as a time series of 784 time steps, i.e. we feed an RNN with one pixel per time step starting from the top left of the image ending to the bottom right. After 784 time steps the RNN provides a 10-dimensional output containing the softmax probabilities of the input being one of the 10 digits. NB: you don’t have to produce an output for each time step, but rather you just need to use the last hidden state to perform the classification. The rationale is that the RNN, after “listening” to the whole time series, has encoded in its hidden state the information necessary to classify the time series.\n",
    "\n",
    "# Bonus Track Assignment 4: benchmarking RNN models on the sequential MNIST task\n",
    "\n",
    "The sequential MNIST can be downloaded as described in the Lab 3—bonus track assignment #2. The goal of this assignment is to compare the performance-achievable by various RNN models on this task. As such:\n",
    "\n",
    "1) Write your custom code that solves the sequential MNIST time-series classification task with several recurrent neural networks. You must consider at least: a vanilla RNN model, a gated recurrent neural network (e.g., GRU and/or LSTM). Optionally, you can implement / use a bidirectional RNN, a deep RNN, and an Antisymmetric RNN (as described in lecture slides “Part3_Lecture2.pdf”).\n",
    "2) For every model, identify a suitable set of hyper-parameters and their possible values to explore by model selection\n",
    "3) Perform model selection, choosing, for each model individually, the values of the hyper-parameters on the validation set.\n",
    "4) For each model individually, train the network with the chosen configuration on the whole training set, and assess it on the test set. For each model, run a number of Ng identical experiments (same hyperparameters’ values, different random seeds), where Ng >= 5, and record the training and test accuracies achieved. Compute averages and std over the Ng repetitions for each model individually.\n",
    "5) Provide a Table in which you report the training and test statistics of the achieved results (computed as indicated in the previous point)."
   ],
   "metadata": {
    "collapsed": false,
    "id": "6jKxnqi3rCCx"
   }
  },
  {
   "cell_type": "markdown",
   "source": [
    "## Libraries"
   ],
   "metadata": {
    "collapsed": false,
    "id": "HzqUIs1frCC9"
   }
  },
  {
   "cell_type": "code",
   "execution_count": null,
   "outputs": [
    {
     "output_type": "stream",
     "name": "stdout",
     "text": [
      "--2023-06-28 17:54:46--  https://raw.githubusercontent.com/jacons/Computational-NeuroScience-Lab/master/LAB3_1/utils.py\n",
      "Resolving raw.githubusercontent.com (raw.githubusercontent.com)... 185.199.108.133, 185.199.109.133, 185.199.110.133, ...\n",
      "Connecting to raw.githubusercontent.com (raw.githubusercontent.com)|185.199.108.133|:443... connected.\n",
      "HTTP request sent, awaiting response... 200 OK\n",
      "Length: 3679 (3.6K) [text/plain]\n",
      "Saving to: ‘utils.py.1’\n",
      "\n",
      "\rutils.py.1            0%[                    ]       0  --.-KB/s               \rutils.py.1          100%[===================>]   3.59K  --.-KB/s    in 0s      \n",
      "\n",
      "2023-06-28 17:54:46 (36.3 MB/s) - ‘utils.py.1’ saved [3679/3679]\n",
      "\n",
      "--2023-06-28 17:54:46--  https://raw.githubusercontent.com/jacons/Computational-NeuroScience-Lab/master/LAB3_1/Assignment2_4/model.py\n",
      "Resolving raw.githubusercontent.com (raw.githubusercontent.com)... 185.199.111.133, 185.199.108.133, 185.199.110.133, ...\n",
      "Connecting to raw.githubusercontent.com (raw.githubusercontent.com)|185.199.111.133|:443... connected.\n",
      "HTTP request sent, awaiting response... 200 OK\n",
      "Length: 784 [text/plain]\n",
      "Saving to: ‘model.py.1’\n",
      "\n",
      "model.py.1          100%[===================>]     784  --.-KB/s    in 0s      \n",
      "\n",
      "2023-06-28 17:54:46 (39.9 MB/s) - ‘model.py.1’ saved [784/784]\n",
      "\n"
     ]
    }
   ],
   "source": [
    "from itertools import product\n",
    "import pandas as pd\n",
    "\n",
    "import copy, os, json\n",
    "from typing import Tuple\n",
    "\n",
    "import torch\n",
    "from torch import cuda\n",
    "from torch.nn import RNN, LSTM, GRU\n",
    "from torch.nn.utils import clip_grad_norm_\n",
    "from torch.optim.adam import Adam\n",
    "from torch.utils.data import DataLoader, Dataset\n",
    "\n",
    "# To work with Google colab\n",
    "#!wget https://raw.githubusercontent.com/jacons/Computational-NeuroScience-Lab/master/Utils/utils.py\n",
    "#!wget https://raw.githubusercontent.com/jacons/Computational-NeuroScience-Lab/master/LAB3_1/Assignment2_4/model.py\n",
    "\n",
    "from Utils.utils import compute_acc, Sequential_mnist, show_loss\n",
    "from LAB3_1.Assignment2_4.model import sMNIST_model"
   ],
   "metadata": {
    "id": "auoVhkKl_FmG",
    "outputId": "30f55254-b1e8-4ec6-9b9c-54dc5f01af12",
    "colab": {
     "base_uri": "https://localhost:8080/"
    }
   }
  },
  {
   "cell_type": "code",
   "execution_count": null,
   "outputs": [],
   "source": [
    "gpu = 'cuda' if cuda.is_available() else 'cpu'\n",
    "if not os.path.exists('caches'):\n",
    "    os.makedirs('caches')"
   ],
   "metadata": {
    "id": "PmJtmlF7Nct5"
   }
  },
  {
   "cell_type": "markdown",
   "source": [
    "## Trainer and Grid-search function"
   ],
   "metadata": {
    "collapsed": false,
    "id": "Mube3U96Nct9"
   }
  },
  {
   "cell_type": "code",
   "execution_count": null,
   "outputs": [],
   "source": [
    "class RNN_trainer:\n",
    "    def __init__(self, rnn_type:str, hidden:int, layers:int, bi:bool):\n",
    "\n",
    "        if rnn_type == \"RNN\":\n",
    "            rnn = RNN(1, hidden, num_layers=layers, bidirectional=bi, batch_first=True)\n",
    "        elif rnn_type == \"LSTM\":\n",
    "            rnn = LSTM(1, hidden, num_layers=layers, bidirectional=bi, batch_first=True)\n",
    "        elif rnn_type == \"GRU\":\n",
    "            rnn = GRU(1, hidden, num_layers=layers, bidirectional=bi, batch_first=True)\n",
    "        else:\n",
    "            rnn = None\n",
    "\n",
    "        # model\n",
    "        self.model = sMNIST_model(rnn, hidden=hidden, bi=bi).to(gpu)\n",
    "\n",
    "    def fit(self, ds:Dataset, epochs:int=2, lr:float=0.001):\n",
    "        \"\"\"\n",
    "        Give the raw dataset ds, the number of epochs and the learning rate.\n",
    "        It fits the model and returns the training loss history.\n",
    "        \"\"\"\n",
    "\n",
    "        # Build a dataloader with the training dataset\n",
    "        loader = DataLoader(ds, batch_size=64, shuffle=True)\n",
    "        opt = Adam(self.model.parameters(), lr)\n",
    "        history_tr = [] # Keep track the behavior of loss\n",
    "\n",
    "        loss, y, y_pred =  None, None, None\n",
    "\n",
    "        self.model.train()\n",
    "        for i in range(epochs):\n",
    "\n",
    "            for x, y in loader:\n",
    "                x,y = x.to(gpu), y.to(gpu) # perform the output\n",
    "\n",
    "                opt.zero_grad(set_to_none=True)\n",
    "                loss, y_pred = self.model(x, y)\n",
    "                loss.backward()\n",
    "                clip_grad_norm_(self.model.parameters(), 0.8)\n",
    "                opt.step()\n",
    "\n",
    "            if compute_acc(y_pred, y) >= 0.98:\n",
    "                break\n",
    "            history_tr.append(loss.item())\n",
    "\n",
    "\n",
    "            if i % 50 == 0:\n",
    "                print(\".\")\n",
    "            else:\n",
    "                print(\".\", end=\"\")\n",
    "\n",
    "        print(\"\")\n",
    "        return torch.tensor(history_tr)\n",
    "\n",
    "    def validate(self, ds:Dataset) -> Tuple:\n",
    "        \"\"\"\n",
    "        Given a validation dataset, it performs the loss\n",
    "        \"\"\"\n",
    "\n",
    "        # Build a dataloader with the dataset taken\n",
    "        loader = DataLoader(ds, batch_size=512)\n",
    "        cum_loss, cum_acc = 0, 0\n",
    "\n",
    "        self.model.eval()\n",
    "        with torch.no_grad():\n",
    "            for x, y in loader:\n",
    "                x,y = x.to(gpu), y.to(gpu)\n",
    "                loss, y_pred = self.model(x, y)\n",
    "                cum_loss += loss.item()\n",
    "                cum_acc += compute_acc(y_pred, y)\n",
    "\n",
    "        cum_loss /= len(loader)\n",
    "        cum_acc /= len(loader)\n",
    "\n",
    "        return  cum_loss, cum_acc"
   ],
   "metadata": {
    "id": "xLZ-dyw_Nct-"
   }
  },
  {
   "cell_type": "code",
   "execution_count": null,
   "outputs": [],
   "source": [
    "class GridSearch:\n",
    "\n",
    "    def __init__(self, rnn_type:str, parameters_grid:dict, tr:Dataset, dev:Dataset):\n",
    "\n",
    "        self.rnn_type = rnn_type\n",
    "        all_configs = [dict(zip(parameters_grid.keys(), configs)) for configs in product(*parameters_grid.values())]\n",
    "\n",
    "        print(\"Number of configurations to try: \",len(all_configs))\n",
    "\n",
    "        \"\"\"\n",
    "        Returns the performance in each configuration:\n",
    "\n",
    "            rank = a list of results for each configuration\n",
    "            best = best model used to final retrain\n",
    "            loss = training loss history of the best model\n",
    "        \"\"\"\n",
    "        rank, best, loss = self.run(tr, dev, all_configs)\n",
    "\n",
    "        # we sort by validation loss\n",
    "        rank = sorted(rank, key=lambda conf: -conf[2])\n",
    "\n",
    "        print(\"\\nThe best solution in \", rank[0])\n",
    "        self.best_config = rank[0][0]\n",
    "        self.best_model = best\n",
    "        self.tr_loss = loss\n",
    "\n",
    "    def run(self, tr:Dataset, dev:Dataset, configs:list):\n",
    "        \"\"\"\n",
    "        In the grid search, we explore all configurations provided and try to find the best\n",
    "        hyperparameter configuration using the training set to train the model and the validation\n",
    "        set to compare the performance among all models instantiated by configurations.\n",
    "        \"\"\"\n",
    "\n",
    "        rank = [] # the keep in track the configuration and the corresponding performance\n",
    "\n",
    "        # we save the best trained model and the training loss during the epochs\n",
    "        best, loss = None, None\n",
    "        best_dev_acc = 0\n",
    "\n",
    "        for idx, config in enumerate(configs):\n",
    "            print(\"Config: \",idx)\n",
    "\n",
    "            trainer = RNN_trainer(self.rnn_type, hidden=config[\"units\"],\n",
    "                                  layers=config[\"layers\"], bi=config[\"bi\"])\n",
    "\n",
    "            history  = trainer.fit(tr, config[\"epochs\"], config[\"lr\"])\n",
    "            _, acc_vl = trainer.validate(dev)\n",
    "\n",
    "            rank.append((config, round(history[-1].item(), 4), round(acc_vl, 4)))\n",
    "\n",
    "            print(f'Results: Acc tr: {round(history[-1].item(), 4)}', f'Acc vl: {round(acc_vl, 4)}')\n",
    "\n",
    "            # we keep the best model\n",
    "            if best_dev_acc < acc_vl:\n",
    "                best_dev_acc = acc_vl\n",
    "                loss = copy.deepcopy(history)\n",
    "                best = copy.deepcopy(trainer)\n",
    "\n",
    "        return rank, best, loss"
   ],
   "metadata": {
    "id": "dxyPA69FNcuA"
   }
  },
  {
   "cell_type": "markdown",
   "source": [
    "### Retrieve the dataset and Hold out"
   ],
   "metadata": {
    "collapsed": false,
    "id": "dxVPQ8MvNcuD"
   }
  },
  {
   "cell_type": "code",
   "execution_count": null,
   "outputs": [
    {
     "output_type": "stream",
     "name": "stdout",
     "text": [
      "Downloading http://yann.lecun.com/exdb/mnist/train-images-idx3-ubyte.gz\n",
      "Downloading http://yann.lecun.com/exdb/mnist/train-images-idx3-ubyte.gz to ..\\sources\\MNIST/MNIST/raw/train-images-idx3-ubyte.gz\n"
     ]
    },
    {
     "output_type": "stream",
     "name": "stderr",
     "text": [
      "100%|██████████| 9912422/9912422 [00:00<00:00, 102796438.70it/s]\n"
     ]
    },
    {
     "output_type": "stream",
     "name": "stdout",
     "text": [
      "Extracting ..\\sources\\MNIST/MNIST/raw/train-images-idx3-ubyte.gz to ..\\sources\\MNIST/MNIST/raw\n",
      "\n",
      "Downloading http://yann.lecun.com/exdb/mnist/train-labels-idx1-ubyte.gz\n",
      "Downloading http://yann.lecun.com/exdb/mnist/train-labels-idx1-ubyte.gz to ..\\sources\\MNIST/MNIST/raw/train-labels-idx1-ubyte.gz\n"
     ]
    },
    {
     "output_type": "stream",
     "name": "stderr",
     "text": [
      "100%|██████████| 28881/28881 [00:00<00:00, 70142266.26it/s]\n"
     ]
    },
    {
     "output_type": "stream",
     "name": "stdout",
     "text": [
      "Extracting ..\\sources\\MNIST/MNIST/raw/train-labels-idx1-ubyte.gz to ..\\sources\\MNIST/MNIST/raw\n",
      "\n",
      "Downloading http://yann.lecun.com/exdb/mnist/t10k-images-idx3-ubyte.gz\n",
      "Downloading http://yann.lecun.com/exdb/mnist/t10k-images-idx3-ubyte.gz to ..\\sources\\MNIST/MNIST/raw/t10k-images-idx3-ubyte.gz\n"
     ]
    },
    {
     "output_type": "stream",
     "name": "stderr",
     "text": [
      "100%|██████████| 1648877/1648877 [00:00<00:00, 27708231.26it/s]\n"
     ]
    },
    {
     "output_type": "stream",
     "name": "stdout",
     "text": [
      "Extracting ..\\sources\\MNIST/MNIST/raw/t10k-images-idx3-ubyte.gz to ..\\sources\\MNIST/MNIST/raw\n",
      "\n",
      "Downloading http://yann.lecun.com/exdb/mnist/t10k-labels-idx1-ubyte.gz\n",
      "Downloading http://yann.lecun.com/exdb/mnist/t10k-labels-idx1-ubyte.gz to ..\\sources\\MNIST/MNIST/raw/t10k-labels-idx1-ubyte.gz\n"
     ]
    },
    {
     "output_type": "stream",
     "name": "stderr",
     "text": [
      "100%|██████████| 4542/4542 [00:00<00:00, 10867386.63it/s]\n"
     ]
    },
    {
     "output_type": "stream",
     "name": "stdout",
     "text": [
      "Extracting ..\\sources\\MNIST/MNIST/raw/t10k-labels-idx1-ubyte.gz to ..\\sources\\MNIST/MNIST/raw\n",
      "\n"
     ]
    }
   ],
   "source": [
    "tr_dataset = Sequential_mnist(\"train\", root=\"./../../Sources/MNIST\")\n",
    "dev_dataset = Sequential_mnist(\"dev\", root=\"./../../Sources/MNIST\")\n",
    "ts_dataset = Sequential_mnist(\"test\", root=\"./../../Sources/MNIST\")"
   ],
   "metadata": {
    "colab": {
     "base_uri": "https://localhost:8080/"
    },
    "id": "fTb2HiboNcuE",
    "outputId": "ed03f636-5624-4b51-a0a9-4a77e838144f"
   }
  },
  {
   "cell_type": "code",
   "execution_count": null,
   "outputs": [],
   "source": [
    "json_dictionary = {}\n",
    "save_best_models = []"
   ],
   "metadata": {
    "id": "OF0UCQefrCDN"
   }
  },
  {
   "cell_type": "markdown",
   "source": [
    "## Grid search Vanilla RNN"
   ],
   "metadata": {
    "collapsed": false,
    "id": "0vQXDJ2irCDO"
   }
  },
  {
   "cell_type": "code",
   "execution_count": null,
   "outputs": [],
   "source": [
    "ranges_to_explore = {\n",
    "    \"units\" : [10, 20],\n",
    "    \"epochs\" : [200],\n",
    "    \"lr\" : [0.001, 0.004],\n",
    "    \"layers\": [1, 2],\n",
    "    \"bi\" : [True]\n",
    "}"
   ],
   "metadata": {
    "id": "9Hbxerb4NcuG"
   }
  },
  {
   "cell_type": "code",
   "execution_count": null,
   "outputs": [
    {
     "output_type": "stream",
     "name": "stdout",
     "text": [
      "Number of configurations to try:  8\n",
      "Config:  0\n",
      ".\n",
      "..................................................\n",
      "..................................................\n",
      "..................................................\n",
      ".................................................\n",
      "Results: Acc tr: 2.2912 Acc vl: 0.1067\n",
      "Config:  1\n",
      ".\n",
      "..................................................\n",
      "..................................................\n",
      "..................................................\n",
      ".................................................\n",
      "Results: Acc tr: 1.0863 Acc vl: 0.4706\n",
      "Config:  2\n",
      ".\n",
      "..................................................\n",
      "..................................................\n",
      "..................................................\n",
      ".................................................\n",
      "Results: Acc tr: 2.2536 Acc vl: 0.1064\n",
      "Config:  3\n",
      ".\n",
      "..................................................\n",
      "..................................................\n",
      "..................................................\n",
      ".................................................\n",
      "Results: Acc tr: nan Acc vl: 0.0988\n",
      "Config:  4\n",
      ".\n",
      "..................................................\n",
      "..................................................\n",
      "..................................................\n",
      ".................................................\n",
      "Results: Acc tr: 2.286 Acc vl: 0.1064\n",
      "Config:  5\n",
      ".\n",
      "..................................................\n",
      "..................................................\n",
      "..................................................\n",
      ".................................................\n",
      "Results: Acc tr: 2.2756 Acc vl: 0.1064\n",
      "Config:  6\n",
      ".\n",
      "..................................................\n",
      "..................................................\n",
      "..................................................\n",
      ".................................................\n",
      "Results: Acc tr: nan Acc vl: 0.0988\n",
      "Config:  7\n",
      ".\n",
      "..................................................\n",
      "..................................................\n",
      "..................................................\n",
      ".................................................\n",
      "Results: Acc tr: nan Acc vl: 0.0988\n",
      "\n",
      "The best solution in  ({'units': 10, 'epochs': 200, 'lr': 0.001, 'layers': 2, 'bi': True}, 1.0863, 0.4706)\n"
     ]
    }
   ],
   "source": [
    "gs = GridSearch(\"RNN\", ranges_to_explore, tr_dataset, dev_dataset)\n",
    "best_config =  gs.best_config\n",
    "best_model = gs.best_model\n",
    "\n",
    "json_dictionary[\"RNN\"] = best_config"
   ],
   "metadata": {
    "id": "cacsk8M6b2Kv",
    "outputId": "4aa68017-40fa-4bc7-b7cf-daeea1e7e7ee",
    "colab": {
     "base_uri": "https://localhost:8080/"
    }
   }
  },
  {
   "cell_type": "code",
   "execution_count": null,
   "outputs": [
    {
     "output_type": "display_data",
     "data": {
      "text/plain": [
       "<Figure size 500x400 with 1 Axes>"
      ],
      "image/png": "[encoded data removed]"
     },
     "metadata": {}
    }
   ],
   "source": [
    "show_loss(gs.tr_loss)"
   ],
   "metadata": {
    "id": "F6LAF_DEb2Kv",
    "outputId": "1fdeb682-9046-421b-d889-563c6385044d",
    "colab": {
     "base_uri": "https://localhost:8080/",
     "height": 410
    }
   }
  },
  {
   "cell_type": "code",
   "execution_count": null,
   "outputs": [
    {
     "output_type": "stream",
     "name": "stdout",
     "text": [
      "Train loss: 1.404929 Accuracy: 0.468\n",
      "Train loss: 1.376933 Accuracy: 0.471\n",
      "Train loss: 1.392449 Accuracy: 0.471\n"
     ]
    }
   ],
   "source": [
    "tr_loss, tr_acc = best_model.validate(tr_dataset)\n",
    "print(f'Train loss: {round(tr_loss, 6)}', f'Accuracy: {round(tr_acc, 3)}')\n",
    "\n",
    "dev_loss, dev_acc = best_model.validate(dev_dataset)\n",
    "print(f'Train loss: {round(dev_loss, 6)}', f'Accuracy: {round(dev_acc, 3)}')\n",
    "\n",
    "test_loss, test_acc = best_model.validate(ts_dataset)\n",
    "print(f'Train loss: {round(test_loss, 6)}', f'Accuracy: {round(test_acc, 3)}')"
   ],
   "metadata": {
    "colab": {
     "base_uri": "https://localhost:8080/"
    },
    "id": "ZId4iAnjb2Kw",
    "outputId": "48838d4f-6267-4007-d00a-ac52d5d067b5"
   }
  },
  {
   "cell_type": "markdown",
   "source": [
    "#### Final retrain with Training and Validation set (with the best configuration)"
   ],
   "metadata": {
    "collapsed": false,
    "id": "piUWiq7ANcuJ"
   }
  },
  {
   "cell_type": "code",
   "execution_count": null,
   "outputs": [
    {
     "output_type": "stream",
     "name": "stdout",
     "text": [
      ".\n",
      "..................................................\n",
      "..................................................\n",
      "..................................................\n",
      "..................................................\n",
      "..................................................\n",
      ".................................................\n"
     ]
    }
   ],
   "source": [
    "best_rrn_model = RNN_trainer(\"RNN\", hidden=best_config[\"units\"],\n",
    "                            layers=best_config[\"layers\"], bi=best_config[\"bi\"])\n",
    "# we use both training and validation as a training set, using the best parameters\n",
    "# found in the previous model selection\n",
    "final_tr = Sequential_mnist(\"train-dev\", root=\"..\\sources\\MNIST\")\n",
    "tr_history = best_rrn_model.fit(final_tr, best_config[\"epochs\"]+100, lr=best_config[\"lr\"])"
   ],
   "metadata": {
    "id": "zX0EgAODrCDW",
    "outputId": "75477713-de9c-4b82-d715-2a0411af9fc1",
    "colab": {
     "base_uri": "https://localhost:8080/"
    }
   }
  },
  {
   "cell_type": "code",
   "execution_count": null,
   "outputs": [
    {
     "output_type": "stream",
     "name": "stdout",
     "text": [
      "Train loss: 1.693329 Accuracy: 0.347\n",
      "Train loss: 1.68463 Accuracy: 0.346\n"
     ]
    }
   ],
   "source": [
    "tr_loss, tr_acc = best_rrn_model.validate(final_tr)\n",
    "print(f'Train loss: {round(tr_loss, 6)}', f'Accuracy: {round(tr_acc, 3)}')\n",
    "\n",
    "test_loss, test_acc  = best_rrn_model.validate(ts_dataset)\n",
    "print(f'Train loss: {round(test_loss, 6)}', f'Accuracy: {round(test_acc, 3)}')"
   ],
   "metadata": {
    "id": "BTj8eao2rCDY",
    "outputId": "fda6c1ca-ad8e-4feb-b6f6-a562d15a5f2e",
    "colab": {
     "base_uri": "https://localhost:8080/"
    }
   }
  },
  {
   "cell_type": "code",
   "execution_count": null,
   "outputs": [
    {
     "output_type": "display_data",
     "data": {
      "text/plain": [
       "<Figure size 500x400 with 1 Axes>"
      ],
      "image/png": "[encoded data removed]"
     },
     "metadata": {}
    }
   ],
   "source": [
    "show_loss(tr_history)"
   ],
   "metadata": {
    "id": "wBupMz_ob2Kx",
    "outputId": "6a9af55a-2321-44e4-f271-43cfae0fa404",
    "colab": {
     "base_uri": "https://localhost:8080/",
     "height": 410
    }
   }
  },
  {
   "cell_type": "code",
   "execution_count": null,
   "outputs": [],
   "source": [
    "save_best_models.append(best_rrn_model.model)"
   ],
   "metadata": {
    "id": "qy3HDARJrCDZ"
   }
  },
  {
   "cell_type": "markdown",
   "source": [
    "## Grid search LSTM"
   ],
   "metadata": {
    "collapsed": false,
    "id": "BySrE_FNNcuL"
   }
  },
  {
   "cell_type": "code",
   "execution_count": null,
   "outputs": [
    {
     "output_type": "stream",
     "name": "stdout",
     "text": [
      "Number of configurations to try:  8\n",
      "Config:  0\n",
      ".\n",
      "..................................................\n",
      "..................................................\n",
      "..................................................\n",
      "................................................\n",
      "Results: Acc tr: 0.9854 Acc vl: 0.7693\n",
      "Config:  1\n",
      ".\n",
      "..................................................\n",
      "......................\n",
      "Results: Acc tr: 0.4527 Acc vl: 0.8508\n",
      "Config:  2\n",
      ".\n",
      "..................................................\n",
      "..................................................\n",
      "..................................................\n",
      ".................................................\n",
      "Results: Acc tr: 2.2027 Acc vl: 0.1891\n",
      "Config:  3\n",
      ".\n",
      "..................................................\n",
      "..................................................\n",
      "..................................................\n",
      ".................................................\n",
      "Results: Acc tr: 2.2995 Acc vl: 0.1064\n",
      "Config:  4\n",
      ".\n",
      "..................................................\n",
      "..................................................\n",
      "..................................................\n",
      "...\n",
      "Results: Acc tr: 0.6638 Acc vl: 0.8548\n",
      "Config:  5\n",
      ".\n",
      "..................................................\n",
      ".......\n",
      "Results: Acc tr: 0.3417 Acc vl: 0.8928\n",
      "Config:  6\n",
      ".\n",
      "..................................................\n",
      "..................................................\n",
      "..................................................\n",
      ".................................................\n",
      "Results: Acc tr: 2.2898 Acc vl: 0.1064\n",
      "Config:  7\n",
      ".\n",
      "..................................................\n",
      "..................................................\n",
      "..................................................\n",
      ".................................................\n",
      "Results: Acc tr: 2.3049 Acc vl: 0.1064\n",
      "\n",
      "The best solution in  ({'units': 20, 'epochs': 200, 'lr': 0.001, 'layers': 2, 'bi': True}, 0.3417, 0.8928)\n"
     ]
    }
   ],
   "source": [
    "gs = GridSearch(\"LSTM\",ranges_to_explore, tr_dataset, dev_dataset)\n",
    "best_config =  gs.best_config\n",
    "best_model = gs.best_model\n",
    "\n",
    "json_dictionary[\"LSTM\"] = best_config"
   ],
   "metadata": {
    "colab": {
     "base_uri": "https://localhost:8080/"
    },
    "id": "qez_302MNcuL",
    "outputId": "4ad4f161-81b3-43c8-e65b-d9f0475ea714"
   }
  },
  {
   "cell_type": "code",
   "execution_count": null,
   "outputs": [
    {
     "output_type": "stream",
     "name": "stdout",
     "text": [
      "Train loss: 0.595853 Accuracy: 0.799\n",
      "Train loss: 0.549834 Accuracy: 0.814\n",
      "Train loss: 0.569783 Accuracy: 0.808\n"
     ]
    }
   ],
   "source": [
    "tr_loss, tr_acc = best_model.validate(tr_dataset)\n",
    "print(f'Train loss: {round(tr_loss, 6)}', f'Accuracy: {round(tr_acc, 3)}')\n",
    "\n",
    "dev_loss, dev_acc = best_model.validate(dev_dataset)\n",
    "print(f'Train loss: {round(dev_loss, 6)}', f'Accuracy: {round(dev_acc, 3)}')\n",
    "\n",
    "test_loss, test_acc = best_model.validate(ts_dataset)\n",
    "print(f'Train loss: {round(test_loss, 6)}', f'Accuracy: {round(test_acc, 3)}')"
   ],
   "metadata": {
    "id": "943adUieNcuL",
    "colab": {
     "base_uri": "https://localhost:8080/"
    },
    "outputId": "fa82855a-e200-4ce7-a4eb-def3308fdadf"
   }
  },
  {
   "cell_type": "markdown",
   "source": [
    "#### Final retrain with Training and Validation set (with the best configuration)"
   ],
   "metadata": {
    "collapsed": false,
    "id": "Wfcrr11vrCDc"
   }
  },
  {
   "cell_type": "code",
   "execution_count": null,
   "outputs": [
    {
     "output_type": "stream",
     "name": "stdout",
     "text": [
      ".\n",
      "..................................................\n",
      "........................\n"
     ]
    }
   ],
   "source": [
    "best_lstm_model = RNN_trainer(\"LSTM\", hidden=best_config[\"units\"],\n",
    "                             layers=best_config[\"layers\"], bi=best_config[\"bi\"])\n",
    "# we use both training and validation as a training set, using the best parameters\n",
    "# found in the previous model selection\n",
    "final_tr = Sequential_mnist(\"train-dev\", root=\"..\\sources\\MNIST\")\n",
    "\n",
    "tr_history = best_lstm_model.fit(final_tr, best_config[\"epochs\"], lr=best_config[\"lr\"])"
   ],
   "metadata": {
    "id": "r9jfXH75NcuL",
    "colab": {
     "base_uri": "https://localhost:8080/"
    },
    "outputId": "38d3af96-8847-473a-a116-00e7079426ce"
   }
  },
  {
   "cell_type": "code",
   "source": [
    "tr_loss, tr_acc = best_lstm_model.validate(final_tr)\n",
    "print(f'Train loss: {round(tr_loss, 6)}', f'Accuracy: {round(tr_acc, 3)}')\n",
    "\n",
    "test_loss, test_acc  = best_lstm_model.validate(ts_dataset)\n",
    "print(f'Train loss: {round(test_loss, 6)}', f'Accuracy: {round(test_acc, 3)}')"
   ],
   "metadata": {
    "id": "KtUZ1YNikUFc",
    "colab": {
     "base_uri": "https://localhost:8080/"
    },
    "outputId": "75cf17a8-1af5-4f6b-e4ff-cb93bd8c0edb"
   },
   "execution_count": null,
   "outputs": [
    {
     "output_type": "stream",
     "name": "stdout",
     "text": [
      "Train loss: 0.21012 Accuracy: 0.939\n",
      "Train loss: 0.219859 Accuracy: 0.938\n"
     ]
    }
   ]
  },
  {
   "cell_type": "code",
   "execution_count": null,
   "outputs": [
    {
     "output_type": "display_data",
     "data": {
      "text/plain": [
       "<Figure size 500x400 with 1 Axes>"
      ],
      "image/png": "[encoded data removed]"
     },
     "metadata": {}
    }
   ],
   "source": [
    "show_loss(tr_history)"
   ],
   "metadata": {
    "id": "wyZxQNe-rCDf",
    "colab": {
     "base_uri": "https://localhost:8080/",
     "height": 410
    },
    "outputId": "5fbfe455-a9c0-4d45-ce72-593e05946233"
   }
  },
  {
   "cell_type": "code",
   "execution_count": null,
   "outputs": [],
   "source": [
    "save_best_models.append(best_lstm_model.model)"
   ],
   "metadata": {
    "id": "pWv62fzyrCDg"
   }
  },
  {
   "cell_type": "markdown",
   "source": [
    "## Grid search GRU"
   ],
   "metadata": {
    "collapsed": false,
    "id": "kL_tZzSmNcuM"
   }
  },
  {
   "cell_type": "code",
   "execution_count": null,
   "outputs": [
    {
     "output_type": "stream",
     "name": "stdout",
     "text": [
      "Number of configurations to try:  8\n",
      "Config:  0\n",
      ".\n",
      "..................................................\n",
      "..................................................\n",
      "..................................................\n",
      ".........................................\n",
      "Results: Acc tr: 0.5979 Acc vl: 0.7043\n",
      "Config:  1\n",
      ".\n",
      "............................\n",
      "Results: Acc tr: 0.4476 Acc vl: 0.8334\n",
      "Config:  2\n",
      ".\n",
      "..................................................\n",
      "..\n",
      "Results: Acc tr: 0.4221 Acc vl: 0.8325\n",
      "Config:  3\n",
      ".\n",
      ".........................\n",
      "Results: Acc tr: 0.1398 Acc vl: 0.9396\n",
      "Config:  4\n",
      ".\n",
      ".............................\n",
      "Results: Acc tr: 0.2866 Acc vl: 0.8607\n",
      "Config:  5\n",
      ".\n",
      "........................\n",
      "Results: Acc tr: 0.0847 Acc vl: 0.9443\n",
      "Config:  6\n",
      ".\n",
      "...................\n",
      "Results: Acc tr: 0.2486 Acc vl: 0.9315\n",
      "Config:  7\n",
      ".\n",
      ".....\n",
      "Results: Acc tr: 0.4136 Acc vl: 0.9571\n",
      "\n",
      "The best solution in  ({'units': 20, 'epochs': 200, 'lr': 0.004, 'layers': 2, 'bi': True}, 0.4136, 0.9571)\n"
     ]
    }
   ],
   "source": [
    "gs = GridSearch(\"GRU\",ranges_to_explore, tr_dataset, dev_dataset)\n",
    "best_config =  gs.best_config\n",
    "best_model = gs.best_model\n",
    "\n",
    "json_dictionary[\"GRU\"] = best_config"
   ],
   "metadata": {
    "id": "kB6YGhrgNcuM",
    "colab": {
     "base_uri": "https://localhost:8080/"
    },
    "outputId": "dd068f89-188a-430f-aba5-22dab6b26277"
   }
  },
  {
   "cell_type": "code",
   "execution_count": null,
   "outputs": [
    {
     "output_type": "stream",
     "name": "stdout",
     "text": [
      "Train loss: 0.165636 Accuracy: 0.952\n",
      "Train loss: 0.148266 Accuracy: 0.957\n",
      "Train loss: 0.153083 Accuracy: 0.956\n"
     ]
    }
   ],
   "source": [
    "tr_loss, tr_acc = best_model.validate(tr_dataset)\n",
    "print(f'Train loss: {round(tr_loss, 6)}', f'Accuracy: {round(tr_acc, 3)}')\n",
    "\n",
    "dev_loss, dev_acc = best_model.validate(dev_dataset)\n",
    "print(f'Train loss: {round(dev_loss, 6)}', f'Accuracy: {round(dev_acc, 3)}')\n",
    "\n",
    "test_loss, test_acc = best_model.validate(ts_dataset)\n",
    "print(f'Train loss: {round(test_loss, 6)}', f'Accuracy: {round(test_acc, 3)}')"
   ],
   "metadata": {
    "id": "Blwv0MRYNcuN",
    "colab": {
     "base_uri": "https://localhost:8080/"
    },
    "outputId": "b4248d8a-8f24-4dc5-b93d-e9e722b43a35"
   }
  },
  {
   "cell_type": "markdown",
   "source": [
    "#### Final retrain with Training and Validation set (with the best configuration)"
   ],
   "metadata": {
    "collapsed": false,
    "id": "lJoP8UfprCDj"
   }
  },
  {
   "cell_type": "code",
   "execution_count": null,
   "outputs": [
    {
     "output_type": "stream",
     "name": "stdout",
     "text": [
      ".\n",
      "........\n"
     ]
    }
   ],
   "source": [
    "best_gru_model = RNN_trainer(\"GRU\",hidden=best_config[\"units\"],\n",
    "                             layers=best_config[\"layers\"], bi=best_config[\"bi\"])\n",
    "# we use both training and validation as a training set, using the best parameters\n",
    "# found in the previous model selection\n",
    "tr_history = best_gru_model.fit(final_tr, best_config[\"epochs\"], lr=best_config[\"lr\"])"
   ],
   "metadata": {
    "id": "zFK6uUCxNcuN",
    "colab": {
     "base_uri": "https://localhost:8080/"
    },
    "outputId": "e4f11241-0578-423c-b68b-741ebffdd8f0"
   }
  },
  {
   "cell_type": "code",
   "execution_count": null,
   "outputs": [
    {
     "output_type": "stream",
     "name": "stdout",
     "text": [
      "Train loss: 0.120781 Accuracy: 0.965\n",
      "Train loss: 0.122385 Accuracy: 0.963\n"
     ]
    }
   ],
   "source": [
    "tr_loss, tr_acc = best_gru_model.validate(final_tr)\n",
    "print(f'Train loss: {round(tr_loss, 6)}', f'Accuracy: {round(tr_acc, 3)}')\n",
    "\n",
    "test_loss, test_acc  = best_gru_model.validate(ts_dataset)\n",
    "print(f'Train loss: {round(test_loss, 6)}', f'Accuracy: {round(test_acc, 3)}')"
   ],
   "metadata": {
    "id": "URTfK68orCDk",
    "colab": {
     "base_uri": "https://localhost:8080/"
    },
    "outputId": "4b8fca75-6b08-43f5-c1cc-9a66288be193"
   }
  },
  {
   "cell_type": "code",
   "execution_count": null,
   "outputs": [
    {
     "output_type": "display_data",
     "data": {
      "text/plain": [
       "<Figure size 500x400 with 1 Axes>"
      ],
      "image/png": "[encoded data removed]"
     },
     "metadata": {}
    }
   ],
   "source": [
    "show_loss(tr_history)"
   ],
   "metadata": {
    "id": "qyDv3tt5rCDl",
    "colab": {
     "base_uri": "https://localhost:8080/",
     "height": 410
    },
    "outputId": "57c18aae-f147-497e-e947-1bb8d332170c"
   }
  },
  {
   "cell_type": "code",
   "execution_count": null,
   "outputs": [],
   "source": [
    "save_best_models.append(best_gru_model.model)"
   ],
   "metadata": {
    "id": "2Prk2BfJrCDm"
   }
  },
  {
   "cell_type": "code",
   "execution_count": null,
   "outputs": [],
   "source": [
    "torch.save(save_best_models,\"caches/best_models.pt\")\n",
    "with open(\"caches/metrics_rnn_lstm_gru.json\", \"w\") as outfile:\n",
    "    outfile.write(json.dumps(json_dictionary))"
   ],
   "metadata": {
    "id": "yuujxCxKrCDn"
   }
  },
  {
   "cell_type": "markdown",
   "source": [
    "## Build the statistical table"
   ],
   "metadata": {
    "collapsed": false,
    "id": "2JcMfVo8rCDo"
   }
  },
  {
   "cell_type": "code",
   "execution_count": null,
   "outputs": [],
   "source": [
    "def experiments(name:str, n:int):\n",
    "\n",
    "    losses_tr, accuracies_tr = torch.zeros(n), torch.zeros(n)\n",
    "    losses_ts, accuracies_ts = torch.zeros(n), torch.zeros(n)\n",
    "\n",
    "    for i in range(n):\n",
    "        print(\"Experiment \", i)\n",
    "        torch.random.manual_seed(torch.randint(1,10000,(1,)).item())\n",
    "        bc = json_dictionary[name]\n",
    "\n",
    "        trainer = RNN_trainer(name, hidden=bc[\"units\"], layers=bc[\"layers\"], bi=bc[\"bi\"])\n",
    "        trainer.fit(tr_dataset, bc[\"epochs\"], bc[\"lr\"])\n",
    "\n",
    "        loss_tr, acc_tr = trainer.validate(tr_dataset)\n",
    "        loss_ts, acc_ts = trainer.validate(ts_dataset)\n",
    "\n",
    "        losses_tr[i], losses_ts[i] = loss_tr, loss_ts\n",
    "        accuracies_tr[i], accuracies_ts[i] = acc_tr, acc_ts\n",
    "\n",
    "    results = {\"training_loss\": (losses_tr.mean(), losses_tr.std()),\n",
    "               \"test_loss\": (losses_ts.mean(), losses_ts.std()),\n",
    "               \"training_acc\": (accuracies_tr.mean(), accuracies_tr.std()),\n",
    "               \"test_acc\": (accuracies_ts.mean(), accuracies_ts.std())}\n",
    "\n",
    "    return results\n",
    "\n",
    "def review(name:str):\n",
    "  t = table_result[name]\n",
    "  result = (round(t[\"training_loss\"][0].item(), 3),\n",
    "            round(t[\"training_loss\"][1].item(),3),\n",
    "\n",
    "            str(round(t[\"training_acc\"][0].item() *100, 3))+\"%\",\n",
    "            round(t[\"training_acc\"][1].item()*100, 3),\n",
    "\n",
    "            round(t[\"test_loss\"][0].item(), 3),\n",
    "            round(t[\"test_loss\"][1].item(), 3),\n",
    "\n",
    "            str(round(t[\"test_acc\"][0].item() *100, 3))+ \"%\",\n",
    "            round(t[\"test_acc\"][1].item() *100, 3))\n",
    "  return result"
   ],
   "metadata": {
    "id": "QHfAgAYlrCDo"
   }
  },
  {
   "cell_type": "code",
   "execution_count": null,
   "outputs": [
    {
     "output_type": "stream",
     "name": "stdout",
     "text": [
      "Experiment  0\n",
      ".\n",
      "..................................................\n",
      "..................................................\n",
      "..................................................\n",
      ".................................................\n",
      "Experiment  1\n",
      ".\n",
      "..................................................\n",
      "..................................................\n",
      "..................................................\n",
      ".................................................\n",
      "Experiment  2\n",
      ".\n",
      "..................................................\n",
      "..................................................\n",
      "..................................................\n",
      ".................................................\n",
      "Experiment  3\n",
      ".\n",
      "..................................................\n",
      "..................................................\n",
      "..................................................\n",
      ".................................................\n",
      "Experiment  4\n",
      ".\n",
      "..................................................\n",
      "..................................................\n",
      "..................................................\n",
      ".................................................\n",
      "Experiment  0\n",
      ".\n",
      "..................................................\n",
      ".....\n",
      "Experiment  1\n",
      ".\n",
      "..........................................\n",
      "Experiment  2\n",
      ".\n",
      "..................................................\n",
      "...............................\n",
      "Experiment  3\n",
      ".\n",
      "..................................................\n",
      "..................................................\n",
      "...............................\n",
      "Experiment  4\n",
      ".\n",
      "..................................................\n",
      "..................................................\n",
      "..................................................\n",
      ".\n",
      "Experiment  0\n",
      ".\n",
      "...\n",
      "Experiment  1\n",
      ".\n",
      "...\n",
      "Experiment  2\n",
      ".\n",
      ".......\n",
      "Experiment  3\n",
      ".\n",
      "....\n",
      "Experiment  4\n",
      ".\n",
      ".......\n"
     ]
    }
   ],
   "source": [
    "table_result = {\n",
    "    \"results_rnn\": experiments(\"RNN\", 5),\n",
    "    \"results_lstm\": experiments(\"LSTM\", 5),\n",
    "    \"results_gru\":  experiments(\"GRU\", 5)\n",
    "}\n",
    "with open(\"caches/stat_table.json\", \"w\") as outfile:\n",
    "    outfile.write(json.dumps(json_dictionary))"
   ],
   "metadata": {
    "id": "x-L0xjN0rCDp",
    "colab": {
     "base_uri": "https://localhost:8080/"
    },
    "outputId": "8669a5c0-be0c-4766-d677-e1f89d81de77"
   }
  },
  {
   "cell_type": "code",
   "source": [
    "pd.DataFrame(data=[review(\"results_rnn\"),review(\"results_lstm\"),review(\"results_gru\")],\n",
    "             index=[\"RNN\",\"LSTM\",\"GRU\"],\n",
    "             columns=[\"TR loss Avg\",\"TR loss std\",\"TR Acc Avg\",\"TR Acc std\",\"TS loss Avg\",\"TS loss std\",\"TS Acc Avg\",\"TS Acc std\"])"
   ],
   "metadata": {
    "colab": {
     "base_uri": "https://localhost:8080/",
     "height": 144
    },
    "id": "5okOD2O4Ivlj",
    "outputId": "970d8a15-57b8-4e6b-dd54-5ef500b74337"
   },
   "execution_count": null,
   "outputs": [
    {
     "output_type": "execute_result",
     "data": {
      "text/plain": [
       "      TR loss Avg  TR loss std TR Acc Avg  TR Acc std  TS loss Avg  \\\n",
       "RNN         1.797        0.078    30.181%       3.450        1.791   \n",
       "LSTM        0.367        0.111     87.53%       4.394        0.368   \n",
       "GRU         0.232        0.049    92.655%       1.702        0.229   \n",
       "\n",
       "      TS loss std TS Acc Avg  TS Acc std  \n",
       "RNN         0.071    30.019%       2.943  \n",
       "LSTM        0.108     87.53%       4.406  \n",
       "GRU         0.046    92.834%       1.797  "
      ],
      "text/html": [
       "\n",
       "  <div id=\"df-e19de7d4-26fb-46b1-bddb-aa672a99a2aa\">\n",
       "    <div class=\"colab-df-container\">\n",
       "      <div>\n",
       "<style scoped>\n",
       "    .dataframe tbody tr th:only-of-type {\n",
       "        vertical-align: middle;\n",
       "    }\n",
       "\n",
       "    .dataframe tbody tr th {\n",
       "        vertical-align: top;\n",
       "    }\n",
       "\n",
       "    .dataframe thead th {\n",
       "        text-align: right;\n",
       "    }\n",
       "</style>\n",
       "<table border=\"1\" class=\"dataframe\">\n",
       "  <thead>\n",
       "    <tr style=\"text-align: right;\">\n",
       "      <th></th>\n",
       "      <th>TR loss Avg</th>\n",
       "      <th>TR loss std</th>\n",
       "      <th>TR Acc Avg</th>\n",
       "      <th>TR Acc std</th>\n",
       "      <th>TS loss Avg</th>\n",
       "      <th>TS loss std</th>\n",
       "      <th>TS Acc Avg</th>\n",
       "      <th>TS Acc std</th>\n",
       "    </tr>\n",
       "  </thead>\n",
       "  <tbody>\n",
       "    <tr>\n",
       "      <th>RNN</th>\n",
       "      <td>1.797</td>\n",
       "      <td>0.078</td>\n",
       "      <td>30.181%</td>\n",
       "      <td>3.450</td>\n",
       "      <td>1.791</td>\n",
       "      <td>0.071</td>\n",
       "      <td>30.019%</td>\n",
       "      <td>2.943</td>\n",
       "    </tr>\n",
       "    <tr>\n",
       "      <th>LSTM</th>\n",
       "      <td>0.367</td>\n",
       "      <td>0.111</td>\n",
       "      <td>87.53%</td>\n",
       "      <td>4.394</td>\n",
       "      <td>0.368</td>\n",
       "      <td>0.108</td>\n",
       "      <td>87.53%</td>\n",
       "      <td>4.406</td>\n",
       "    </tr>\n",
       "    <tr>\n",
       "      <th>GRU</th>\n",
       "      <td>0.232</td>\n",
       "      <td>0.049</td>\n",
       "      <td>92.655%</td>\n",
       "      <td>1.702</td>\n",
       "      <td>0.229</td>\n",
       "      <td>0.046</td>\n",
       "      <td>92.834%</td>\n",
       "      <td>1.797</td>\n",
       "    </tr>\n",
       "  </tbody>\n",
       "</table>\n",
       "</div>\n",
       "      <button class=\"colab-df-convert\" onclick=\"convertToInteractive('df-e19de7d4-26fb-46b1-bddb-aa672a99a2aa')\"\n",
       "              title=\"Convert this dataframe to an interactive table.\"\n",
       "              style=\"display:none;\">\n",
       "        \n",
       "  <svg xmlns=\"http://www.w3.org/2000/svg\" height=\"24px\"viewBox=\"0 0 24 24\"\n",
       "       width=\"24px\">\n",
       "    <path d=\"M0 0h24v24H0V0z\" fill=\"none\"/>\n",
       "    <path d=\"M18.56 5.44l.94 2.06.94-2.06 2.06-.94-2.06-.94-.94-2.06-.94 2.06-2.06.94zm-11 1L8.5 8.5l.94-2.06 2.06-.94-2.06-.94L8.5 2.5l-.94 2.06-2.06.94zm10 10l.94 2.06.94-2.06 2.06-.94-2.06-.94-.94-2.06-.94 2.06-2.06.94z\"/><path d=\"M17.41 7.96l-1.37-1.37c-.4-.4-.92-.59-1.43-.59-.52 0-1.04.2-1.43.59L10.3 9.45l-7.72 7.72c-.78.78-.78 2.05 0 2.83L4 21.41c.39.39.9.59 1.41.59.51 0 1.02-.2 1.41-.59l7.78-7.78 2.81-2.81c.8-.78.8-2.07 0-2.86zM5.41 20L4 18.59l7.72-7.72 1.47 1.35L5.41 20z\"/>\n",
       "  </svg>\n",
       "      </button>\n",
       "      \n",
       "  <style>\n",
       "    .colab-df-container {\n",
       "      display:flex;\n",
       "      flex-wrap:wrap;\n",
       "      gap: 12px;\n",
       "    }\n",
       "\n",
       "    .colab-df-convert {\n",
       "      background-color: #E8F0FE;\n",
       "      border: none;\n",
       "      border-radius: 50%;\n",
       "      cursor: pointer;\n",
       "      display: none;\n",
       "      fill: #1967D2;\n",
       "      height: 32px;\n",
       "      padding: 0 0 0 0;\n",
       "      width: 32px;\n",
       "    }\n",
       "\n",
       "    .colab-df-convert:hover {\n",
       "      background-color: #E2EBFA;\n",
       "      box-shadow: 0px 1px 2px rgba(60, 64, 67, 0.3), 0px 1px 3px 1px rgba(60, 64, 67, 0.15);\n",
       "      fill: #174EA6;\n",
       "    }\n",
       "\n",
       "    [theme=dark] .colab-df-convert {\n",
       "      background-color: #3B4455;\n",
       "      fill: #D2E3FC;\n",
       "    }\n",
       "\n",
       "    [theme=dark] .colab-df-convert:hover {\n",
       "      background-color: #434B5C;\n",
       "      box-shadow: 0px 1px 3px 1px rgba(0, 0, 0, 0.15);\n",
       "      filter: drop-shadow(0px 1px 2px rgba(0, 0, 0, 0.3));\n",
       "      fill: #FFFFFF;\n",
       "    }\n",
       "  </style>\n",
       "\n",
       "      <script>\n",
       "        const buttonEl =\n",
       "          document.querySelector('#df-e19de7d4-26fb-46b1-bddb-aa672a99a2aa button.colab-df-convert');\n",
       "        buttonEl.style.display =\n",
       "          google.colab.kernel.accessAllowed ? 'block' : 'none';\n",
       "\n",
       "        async function convertToInteractive(key) {\n",
       "          const element = document.querySelector('#df-e19de7d4-26fb-46b1-bddb-aa672a99a2aa');\n",
       "          const dataTable =\n",
       "            await google.colab.kernel.invokeFunction('convertToInteractive',\n",
       "                                                     [key], {});\n",
       "          if (!dataTable) return;\n",
       "\n",
       "          const docLinkHtml = 'Like what you see? Visit the ' +\n",
       "            '<a target=\"_blank\" href=https://colab.research.google.com/notebooks/data_table.ipynb>data table notebook</a>'\n",
       "            + ' to learn more about interactive tables.';\n",
       "          element.innerHTML = '';\n",
       "          dataTable['output_type'] = 'display_data';\n",
       "          await google.colab.output.renderOutput(dataTable, element);\n",
       "          const docLink = document.createElement('div');\n",
       "          docLink.innerHTML = docLinkHtml;\n",
       "          element.appendChild(docLink);\n",
       "        }\n",
       "      </script>\n",
       "    </div>\n",
       "  </div>\n",
       "  "
      ]
     },
     "metadata": {},
     "execution_count": 48
    }
   ]
  }
 ],
 "metadata": {
  "kernelspec": {
   "name": "python3",
   "language": "python",
   "display_name": "Python 3 (ipykernel)"
  },
  "language_info": {
   "codemirror_mode": {
    "name": "ipython",
    "version": 2
   },
   "file_extension": ".py",
   "mimetype": "text/x-python",
   "name": "python",
   "nbconvert_exporter": "python",
   "pygments_lexer": "ipython2",
   "version": "2.7.6"
  },
  "colab": {
   "provenance": [],
   "gpuType": "T4"
  },
  "accelerator": "GPU"
 },
 "nbformat": 4,
 "nbformat_minor": 0
}

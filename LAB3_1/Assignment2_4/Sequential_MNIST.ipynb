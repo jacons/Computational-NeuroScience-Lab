{
 "cells": [
  {
   "cell_type": "code",
   "execution_count": 4,
   "outputs": [],
   "source": [
    "from itertools import product\n",
    "\n",
    "import copy\n",
    "from torch import cuda\n",
    "from torch.nn import Module, RNN, GRU, LSTM, Linear, CrossEntropyLoss\n",
    "from torch.nn.utils import clip_grad_norm_\n",
    "from torch.optim.adam import Adam\n",
    "from torch.utils.data import DataLoader\n",
    "\n",
    "from typing import Tuple\n",
    "\n",
    "import torch\n",
    "from torch import Tensor, zeros\n",
    "from torch.utils.data import Dataset\n",
    "\n",
    "from LAB3_1.utils import compute_acc, Sequential_mnist , show_loss"
   ],
   "metadata": {
    "id": "auoVhkKl_FmG"
   }
  },
  {
   "cell_type": "code",
   "execution_count": 7,
   "outputs": [],
   "source": [
    "gpu = 'cuda' if cuda.is_available() else 'cpu'"
   ],
   "metadata": {
    "id": "PmJtmlF7Nct5"
   }
  },
  {
   "cell_type": "markdown",
   "source": [
    "## Model"
   ],
   "metadata": {
    "collapsed": false,
    "id": "vFxNdf6GNct6"
   }
  },
  {
   "cell_type": "code",
   "execution_count": 8,
   "outputs": [],
   "source": [
    "class Recurrent_RNN(Module): # Recurrent Neural network\n",
    "    def __init__(self,rnn_type:str, hidden: int, layers:int, bi:bool):\n",
    "        super(Recurrent_RNN, self).__init__()\n",
    "\n",
    "        if rnn_type == \"RNN\":\n",
    "            self.rnn = RNN(1, hidden, num_layers=layers, bidirectional=bi, batch_first=True)\n",
    "        elif rnn_type == \"LSTM\":\n",
    "            self.rnn = LSTM(1, hidden, num_layers=layers, bidirectional=bi, batch_first=True)\n",
    "        elif rnn_type == \"GRU\":\n",
    "            self.rnn = GRU(1, hidden, num_layers=layers, bidirectional=bi, batch_first=True)\n",
    "\n",
    "        B = 2 if bi else 1\n",
    "        self.readout = Linear(B * hidden, 10)\n",
    "        self.criteria = CrossEntropyLoss()\n",
    "\n",
    "    def forward(self, x: Tensor, y:Tensor=None) -> Tensor:\n",
    "        self.rnn.flatten_parameters()\n",
    "        out, _ = self.rnn(x)\n",
    "        y_pred =  self.readout(out[:,-1,:]) # take only the last hidden state as (cumulative knowledge)\n",
    "\n",
    "        loss = None\n",
    "        if y is not None:\n",
    "            loss = self.criteria(y_pred, y)\n",
    "        return (loss, y_pred) if loss is not None else y_pred"
   ],
   "metadata": {
    "id": "Iu8Eu_pDNct8"
   }
  },
  {
   "cell_type": "markdown",
   "source": [
    "## Trainer"
   ],
   "metadata": {
    "collapsed": false,
    "id": "Mube3U96Nct9"
   }
  },
  {
   "cell_type": "code",
   "execution_count": 9,
   "outputs": [],
   "source": [
    "class RNN_trainer:\n",
    "    def __init__(self, rnn_type:str, hidden:int, layers:int, bi:bool):\n",
    "\n",
    "        # model\n",
    "        self.model = Recurrent_RNN(rnn_type, hidden=hidden, layers=layers, bi=bi).to(gpu)\n",
    "\n",
    "    def fit(self, dataset:Dataset, epochs:int=2, lr:float=0.001):\n",
    "\n",
    "        # Build a dataloader with the training dataset\n",
    "        loader = DataLoader(dataset, batch_size=64, shuffle=True)\n",
    "        opt = Adam(self.model.parameters(), lr)\n",
    "        history_tr = zeros(epochs) # keep track the loss and accuracy through epochs\n",
    "\n",
    "        loss, y, y_pred =  None, None, None\n",
    "\n",
    "        self.model.train()\n",
    "        for i in range(epochs):\n",
    "\n",
    "            for x, y in loader:\n",
    "                x,y = x.to(gpu), y.to(gpu)\n",
    "\n",
    "                opt.zero_grad(set_to_none=True)\n",
    "                loss, y_pred = self.model(x, y)\n",
    "                loss.backward()\n",
    "                clip_grad_norm_(self.model.parameters(), 1)\n",
    "                opt.step()\n",
    "\n",
    "            history_tr[i] = loss.item()\n",
    "            if i % 15 == 0:\n",
    "                print(f'Epoch {i} Loss: {round(loss.item(), 4)} Accuracy {round(compute_acc(y_pred, y), 4)}')\n",
    "\n",
    "        return history_tr\n",
    "\n",
    "    def validate(self, dataset:Dataset) -> Tuple:\n",
    "        # Build a dataloader with the dataset taken (train, validation or test)\n",
    "        loader = DataLoader(dataset, batch_size=64)\n",
    "        cum_loss, cum_acc = 0, 0\n",
    "\n",
    "        self.model.eval()\n",
    "        with torch.no_grad():\n",
    "            for x, y in loader:\n",
    "                x,y = x.to(gpu), y.to(gpu)\n",
    "                loss, y_pred = self.model(x, y)\n",
    "                cum_loss += loss.item()\n",
    "                cum_acc += compute_acc(y_pred, y)\n",
    "\n",
    "        cum_loss /= len(loader)\n",
    "        cum_acc /= len(loader)\n",
    "\n",
    "        return  cum_loss, cum_acc"
   ],
   "metadata": {
    "id": "xLZ-dyw_Nct-"
   }
  },
  {
   "cell_type": "code",
   "execution_count": 10,
   "outputs": [],
   "source": [
    "class GridSearch:\n",
    "\n",
    "    def __init__(self, rnn_type:str, parameters_grid:dict, tr:Dataset, dev:Dataset):\n",
    "\n",
    "        self.rnn_type = rnn_type\n",
    "        all_configs = [dict(zip(parameters_grid.keys(), configs)) for configs in product(*parameters_grid.values())]\n",
    "\n",
    "        print(\"Number of configurations to try: \",len(all_configs))\n",
    "        # returns the performance in each configuration, the best model and the history of the loss\n",
    "        rank, best, loss = self.run(tr, dev, all_configs)\n",
    "\n",
    "        # we sort by validation loss\n",
    "        rank = sorted(rank, key=lambda conf: -conf[2])\n",
    "\n",
    "        print(\"\\nThe best solution in \", rank[0])\n",
    "        self.best_config = rank[0][0]\n",
    "        self.best_model = best\n",
    "        self.tr_loss = loss\n",
    "\n",
    "    def run(self, tr:Dataset, dev:Dataset, configs:list):\n",
    "        \"\"\"\n",
    "        In the grid search, we explore all configurations provided and try to find the best\n",
    "        hyperparameter configuration using the training set to train the model and the validation\n",
    "        set to compare the performance among all models instantiated by configurations.\n",
    "        \"\"\"\n",
    "\n",
    "        rank = [] # the keep in track the configuration and the corresponding performance\n",
    "\n",
    "        # we save the best trained model and the training loss during the epochs\n",
    "        best, loss = None, None\n",
    "        best_dev_acc = 0\n",
    "\n",
    "        for idx, config in enumerate(configs):\n",
    "            print(\"Config: \",idx)\n",
    "\n",
    "            trainer = RNN_trainer(rnn_type=self.rnn_type,\n",
    "                                  hidden=config[\"units\"],\n",
    "                                  layers=config[\"layers\"],\n",
    "                                  bi=config[\"bi\"])\n",
    "\n",
    "            history  = trainer.fit(tr, config[\"epochs\"], config[\"lr\"])\n",
    "            _, acc_vl = trainer.validate(dev)\n",
    "\n",
    "            rank.append((config, round(history[-1].item(), 4), round(acc_vl, 4)))\n",
    "\n",
    "            print(f'Results: Acc tr: {round(history[-1].item(), 4)}', f'Acc vl: {round(acc_vl, 4)}')\n",
    "\n",
    "            # we keep the best model\n",
    "            if best_dev_acc < acc_vl:\n",
    "                best_dev_acc = acc_vl\n",
    "                loss = copy.deepcopy(history)\n",
    "                best = copy.deepcopy(trainer)\n",
    "\n",
    "        return rank, best, loss"
   ],
   "metadata": {
    "id": "dxyPA69FNcuA"
   }
  },
  {
   "cell_type": "markdown",
   "source": [
    "# Bonus-Track Assignment 2: Sequential MNIST classification task"
   ],
   "metadata": {
    "collapsed": false,
    "id": "iQBSUdoaNcuC"
   }
  },
  {
   "cell_type": "markdown",
   "source": [
    "## Retrieve the dataset and Hold out"
   ],
   "metadata": {
    "collapsed": false,
    "id": "dxVPQ8MvNcuD"
   }
  },
  {
   "cell_type": "code",
   "execution_count": 11,
   "outputs": [
    {
     "output_type": "stream",
     "name": "stdout",
     "text": [
      "Downloading http://yann.lecun.com/exdb/mnist/train-images-idx3-ubyte.gz\n",
      "Downloading http://yann.lecun.com/exdb/mnist/train-images-idx3-ubyte.gz to sources/MNIST/raw/train-images-idx3-ubyte.gz\n"
     ]
    },
    {
     "output_type": "stream",
     "name": "stderr",
     "text": [
      "100%|██████████| 9912422/9912422 [00:00<00:00, 484232418.78it/s]"
     ]
    },
    {
     "output_type": "stream",
     "name": "stdout",
     "text": [
      "Extracting sources/MNIST/raw/train-images-idx3-ubyte.gz to sources/MNIST/raw\n"
     ]
    },
    {
     "output_type": "stream",
     "name": "stderr",
     "text": [
      "\n"
     ]
    },
    {
     "output_type": "stream",
     "name": "stdout",
     "text": [
      "\n",
      "Downloading http://yann.lecun.com/exdb/mnist/train-labels-idx1-ubyte.gz\n",
      "Downloading http://yann.lecun.com/exdb/mnist/train-labels-idx1-ubyte.gz to sources/MNIST/raw/train-labels-idx1-ubyte.gz\n"
     ]
    },
    {
     "output_type": "stream",
     "name": "stderr",
     "text": [
      "100%|██████████| 28881/28881 [00:00<00:00, 95987079.10it/s]\n"
     ]
    },
    {
     "output_type": "stream",
     "name": "stdout",
     "text": [
      "Extracting sources/MNIST/raw/train-labels-idx1-ubyte.gz to sources/MNIST/raw\n",
      "\n",
      "Downloading http://yann.lecun.com/exdb/mnist/t10k-images-idx3-ubyte.gz\n",
      "Downloading http://yann.lecun.com/exdb/mnist/t10k-images-idx3-ubyte.gz to sources/MNIST/raw/t10k-images-idx3-ubyte.gz\n"
     ]
    },
    {
     "output_type": "stream",
     "name": "stderr",
     "text": [
      "100%|██████████| 1648877/1648877 [00:00<00:00, 163523311.11it/s]"
     ]
    },
    {
     "output_type": "stream",
     "name": "stdout",
     "text": [
      "Extracting sources/MNIST/raw/t10k-images-idx3-ubyte.gz to sources/MNIST/raw\n",
      "\n",
      "Downloading http://yann.lecun.com/exdb/mnist/t10k-labels-idx1-ubyte.gz\n",
      "Downloading http://yann.lecun.com/exdb/mnist/t10k-labels-idx1-ubyte.gz to sources/MNIST/raw/t10k-labels-idx1-ubyte.gz\n"
     ]
    },
    {
     "output_type": "stream",
     "name": "stderr",
     "text": [
      "\n",
      "100%|██████████| 4542/4542 [00:00<00:00, 6169212.68it/s]\n"
     ]
    },
    {
     "output_type": "stream",
     "name": "stdout",
     "text": [
      "Extracting sources/MNIST/raw/t10k-labels-idx1-ubyte.gz to sources/MNIST/raw\n",
      "\n"
     ]
    }
   ],
   "source": [
    "tr_dataset = Sequential_mnist(\"train\")\n",
    "dev_dataset = Sequential_mnist(\"dev\")\n",
    "ts_dataset = Sequential_mnist(\"test\")"
   ],
   "metadata": {
    "colab": {
     "base_uri": "https://localhost:8080/"
    },
    "id": "fTb2HiboNcuE",
    "outputId": "1c47da1e-2927-4607-b92e-4952d9570973"
   }
  },
  {
   "cell_type": "markdown",
   "source": [
    "## Grid search Vanilla RNN"
   ],
   "metadata": {
    "collapsed": false,
    "id": "zYLCVIRtNcuG"
   }
  },
  {
   "cell_type": "code",
   "execution_count": 12,
   "outputs": [],
   "source": [
    "ranges_to_explore = {\n",
    "    \"units\" : [10, 20],\n",
    "    \"epochs\" : [100],\n",
    "    \"lr\" : [0.001, 0.004],\n",
    "    \"layers\": [1, 2],\n",
    "    \"bi\" : [True]\n",
    "}"
   ],
   "metadata": {
    "id": "9Hbxerb4NcuG"
   }
  },
  {
   "cell_type": "code",
   "execution_count": null,
   "outputs": [
    {
     "output_type": "stream",
     "name": "stdout",
     "text": [
      "Number of configurations to try:  4\n",
      "Config:  0\n",
      "{'units': 10, 'epochs': 100, 'lr': 0.001, 'layers': 1, 'bi': True}\n",
      "Epoch 0 Loss: 2.3259 Accuracy 0.0\n",
      "Epoch 5 Loss: 2.3264 Accuracy 0.0\n",
      "Epoch 10 Loss: 2.3267 Accuracy 0.0\n",
      "Epoch 15 Loss: 2.3267 Accuracy 0.0\n",
      "Epoch 20 Loss: 2.3267 Accuracy 0.0\n",
      "Epoch 25 Loss: 2.3267 Accuracy 0.0\n",
      "Epoch 30 Loss: 2.3269 Accuracy 0.0\n",
      "Epoch 35 Loss: 2.3274 Accuracy 0.0\n",
      "Epoch 40 Loss: 2.3012 Accuracy 0.1875\n",
      "Epoch 45 Loss: 2.2962 Accuracy 0.125\n",
      "Epoch 50 Loss: 2.3342 Accuracy 0.1875\n",
      "Epoch 55 Loss: 1.8766 Accuracy 0.3125\n",
      "Epoch 60 Loss: 1.9966 Accuracy 0.1875\n",
      "Epoch 65 Loss: 1.8934 Accuracy 0.375\n",
      "Epoch 70 Loss: 1.8631 Accuracy 0.3125\n",
      "Epoch 75 Loss: 1.8869 Accuracy 0.25\n",
      "Epoch 80 Loss: 2.1034 Accuracy 0.25\n",
      "Epoch 85 Loss: 1.7794 Accuracy 0.25\n",
      "Epoch 90 Loss: 1.9953 Accuracy 0.1875\n",
      "Epoch 95 Loss: 1.7925 Accuracy 0.3125\n",
      "Results: Acc tr: 1.8371 Acc vl: 0.2446\n",
      "Best model than the previous one\n",
      "Config:  1\n",
      "{'units': 10, 'epochs': 100, 'lr': 0.001, 'layers': 2, 'bi': True}\n",
      "Epoch 0 Loss: 2.3273 Accuracy 0.0\n",
      "Epoch 5 Loss: 2.3271 Accuracy 0.0\n",
      "Epoch 10 Loss: 2.3268 Accuracy 0.0\n",
      "Epoch 15 Loss: 2.3267 Accuracy 0.0\n",
      "Epoch 20 Loss: 1.9458 Accuracy 0.125\n",
      "Epoch 25 Loss: 1.762 Accuracy 0.1875\n",
      "Epoch 30 Loss: 1.7678 Accuracy 0.375\n",
      "Epoch 35 Loss: 1.7276 Accuracy 0.3125\n",
      "Epoch 40 Loss: 1.6905 Accuracy 0.375\n",
      "Epoch 45 Loss: 1.6429 Accuracy 0.4375\n",
      "Epoch 50 Loss: 1.6275 Accuracy 0.4375\n",
      "Epoch 55 Loss: 1.6096 Accuracy 0.5625\n",
      "Epoch 60 Loss: 1.7839 Accuracy 0.3125\n",
      "Epoch 65 Loss: 1.7495 Accuracy 0.3125\n",
      "Epoch 70 Loss: 1.6481 Accuracy 0.375\n",
      "Epoch 75 Loss: 1.7464 Accuracy 0.375\n",
      "Epoch 80 Loss: 1.604 Accuracy 0.4375\n",
      "Epoch 85 Loss: 1.6194 Accuracy 0.25\n",
      "Epoch 90 Loss: 1.7412 Accuracy 0.375\n",
      "Epoch 95 Loss: 1.5994 Accuracy 0.375\n",
      "Results: Acc tr: 1.5935 Acc vl: 0.3026\n",
      "Best model than the previous one\n",
      "Config:  2\n",
      "{'units': 20, 'epochs': 100, 'lr': 0.001, 'layers': 1, 'bi': True}\n",
      "Epoch 0 Loss: 2.3258 Accuracy 0.0\n",
      "Epoch 5 Loss: 2.3263 Accuracy 0.0\n",
      "Epoch 10 Loss: 2.3269 Accuracy 0.0\n",
      "Epoch 15 Loss: 2.3275 Accuracy 0.0\n",
      "Epoch 20 Loss: 2.3282 Accuracy 0.0\n",
      "Epoch 25 Loss: 2.3289 Accuracy 0.0\n",
      "Epoch 30 Loss: 2.3288 Accuracy 0.0\n",
      "Epoch 35 Loss: 2.3288 Accuracy 0.0\n",
      "Epoch 40 Loss: 2.3187 Accuracy 0.0625\n",
      "Epoch 45 Loss: 2.3291 Accuracy 0.0\n",
      "Epoch 50 Loss: 2.3285 Accuracy 0.0\n",
      "Epoch 55 Loss: 2.3278 Accuracy 0.0\n",
      "Epoch 60 Loss: 2.3346 Accuracy 0.0\n",
      "Epoch 65 Loss: 2.326 Accuracy 0.0\n",
      "Epoch 70 Loss: 2.3251 Accuracy 0.0\n",
      "Epoch 75 Loss: 2.3312 Accuracy 0.0\n",
      "Epoch 80 Loss: 2.3335 Accuracy 0.0\n",
      "Epoch 85 Loss: 2.3289 Accuracy 0.0\n",
      "Epoch 90 Loss: 2.3208 Accuracy 0.0\n",
      "Epoch 95 Loss: 2.3193 Accuracy 0.0\n",
      "Results: Acc tr: 2.3273 Acc vl: 0.1114\n",
      "Config:  3\n",
      "{'units': 20, 'epochs': 100, 'lr': 0.001, 'layers': 2, 'bi': True}\n",
      "Epoch 0 Loss: 2.3261 Accuracy 0.0\n",
      "Epoch 5 Loss: 2.3251 Accuracy 0.0\n",
      "Epoch 10 Loss: 2.3261 Accuracy 0.0\n",
      "Epoch 15 Loss: 2.3272 Accuracy 0.0\n",
      "Epoch 20 Loss: 2.3275 Accuracy 0.0\n",
      "Epoch 25 Loss: 2.328 Accuracy 0.0\n",
      "Epoch 30 Loss: 2.3245 Accuracy 0.0\n",
      "Epoch 35 Loss: 2.3296 Accuracy 0.0\n",
      "Epoch 40 Loss: 2.3301 Accuracy 0.0\n",
      "Epoch 45 Loss: 2.3309 Accuracy 0.0\n",
      "Epoch 50 Loss: 2.3289 Accuracy 0.0\n",
      "Epoch 55 Loss: 2.33 Accuracy 0.0\n",
      "Epoch 60 Loss: 2.3295 Accuracy 0.0\n",
      "Epoch 65 Loss: 2.3421 Accuracy 0.0\n",
      "Epoch 70 Loss: 2.332 Accuracy 0.0\n",
      "Epoch 75 Loss: 2.3114 Accuracy 0.0625\n",
      "Epoch 80 Loss: 2.3282 Accuracy 0.0\n",
      "Epoch 85 Loss: 2.3289 Accuracy 0.0\n",
      "Epoch 90 Loss: 2.3271 Accuracy 0.0\n",
      "Epoch 95 Loss: 2.3308 Accuracy 0.0\n",
      "Results: Acc tr: 2.3309 Acc vl: 0.1065\n",
      "\n",
      "The best solution in  ({'units': 10, 'epochs': 100, 'lr': 0.001, 'layers': 2, 'bi': True}, 1.5935, 0.3026)\n"
     ]
    }
   ],
   "source": [
    "gs = GridSearch(\"RNN\", ranges_to_explore, tr_dataset, dev_dataset)\n",
    "best_config =  gs.best_config\n",
    "best_model = gs.best_model"
   ],
   "metadata": {
    "id": "cacsk8M6b2Kv",
    "outputId": "b31eadb6-35ab-4eb5-8f8e-04d03e81c6f1",
    "colab": {
     "base_uri": "https://localhost:8080/"
    }
   }
  },
  {
   "cell_type": "code",
   "execution_count": null,
   "outputs": [
    {
     "output_type": "display_data",
     "data": {
      "text/plain": [
       "<Figure size 500x400 with 1 Axes>"
      ],
      "image/png": "[encoded data removed]"
     },
     "metadata": {}
    }
   ],
   "source": [
    "show_loss(gs.tr_loss)"
   ],
   "metadata": {
    "id": "F6LAF_DEb2Kv",
    "outputId": "19aa897d-2095-40fe-fb42-3a6787b856c8",
    "colab": {
     "base_uri": "https://localhost:8080/",
     "height": 410
    }
   }
  },
  {
   "cell_type": "code",
   "execution_count": null,
   "outputs": [
    {
     "output_type": "stream",
     "name": "stdout",
     "text": [
      "Train loss: 1.852718 Accuracy: 0.293\n",
      "Train loss: 1.802062 Accuracy: 0.303\n",
      "Train loss: 1.849722 Accuracy: 0.294\n"
     ]
    }
   ],
   "source": [
    "tr_loss, tr_acc = best_model.validate(tr_dataset)\n",
    "print(f'Train loss: {round(tr_loss, 6)}', f'Accuracy: {round(tr_acc, 3)}')\n",
    "\n",
    "dev_loss, dev_acc = best_model.validate(dev_dataset)\n",
    "print(f'Train loss: {round(dev_loss, 6)}', f'Accuracy: {round(dev_acc, 3)}')\n",
    "\n",
    "test_loss, test_acc = best_model.validate(ts_dataset)\n",
    "print(f'Train loss: {round(test_loss, 6)}', f'Accuracy: {round(test_acc, 3)}')"
   ],
   "metadata": {
    "colab": {
     "base_uri": "https://localhost:8080/"
    },
    "id": "ZId4iAnjb2Kw",
    "outputId": "bac7b7c3-6d8f-4d8b-eaf7-c87a3701057f"
   }
  },
  {
   "cell_type": "markdown",
   "source": [
    "#### Final retrain with Training and Validation set (with the best configuration)"
   ],
   "metadata": {
    "collapsed": false,
    "id": "piUWiq7ANcuJ"
   }
  },
  {
   "cell_type": "code",
   "execution_count": null,
   "outputs": [
    {
     "output_type": "stream",
     "name": "stdout",
     "text": [
      "Epoch 0 Loss: 2.3093 Accuracy 0.0625\n",
      "Epoch 5 Loss: 2.3104 Accuracy 0.0625\n",
      "Epoch 10 Loss: 2.3096 Accuracy 0.0625\n",
      "Epoch 15 Loss: 2.3091 Accuracy 0.0625\n",
      "Epoch 20 Loss: 2.309 Accuracy 0.0625\n",
      "Epoch 25 Loss: 2.3087 Accuracy 0.0625\n",
      "Epoch 30 Loss: 2.2991 Accuracy 0.0625\n",
      "Epoch 35 Loss: 2.1233 Accuracy 0.1562\n",
      "Epoch 40 Loss: 1.7981 Accuracy 0.2812\n",
      "Epoch 45 Loss: 1.5589 Accuracy 0.4062\n",
      "Epoch 50 Loss: 1.4389 Accuracy 0.375\n",
      "Epoch 55 Loss: 1.6365 Accuracy 0.375\n",
      "Epoch 60 Loss: 1.4032 Accuracy 0.4062\n",
      "Epoch 65 Loss: 1.3609 Accuracy 0.4688\n",
      "Epoch 70 Loss: 1.4681 Accuracy 0.3438\n",
      "Epoch 75 Loss: 1.3583 Accuracy 0.4688\n",
      "Epoch 80 Loss: 1.5149 Accuracy 0.3125\n",
      "Epoch 85 Loss: 1.1383 Accuracy 0.5625\n",
      "Epoch 90 Loss: 1.0885 Accuracy 0.5625\n",
      "Epoch 95 Loss: 1.2974 Accuracy 0.375\n",
      "Train loss: 1.515966 Accuracy: 0.404\n",
      "Train loss: 1.532111 Accuracy: 0.396\n"
     ]
    }
   ],
   "source": [
    "best_rrn_model = RNN_trainer(rnn_type=\"RNN\",\n",
    "                            hidden=best_config[\"units\"],\n",
    "                            layers=best_config[\"layers\"],\n",
    "                            bi=best_config[\"bi\"])\n",
    "# we use both training and validation as a training set, using the best parameters\n",
    "# found in the previous model selection\n",
    "final_tr = Sequential_mnist(\"train-dev\")\n",
    "best_rrn_model.fit(final_tr, best_config[\"epochs\"], lr=best_config[\"lr\"])\n",
    "\n",
    "tr_loss, tr_acc = best_rrn_model.validate(final_tr)\n",
    "print(f'Train loss: {round(tr_loss, 6)}', f'Accuracy: {round(tr_acc, 3)}')\n",
    "\n",
    "test_loss, test_acc  = best_rrn_model.validate(ts_dataset)\n",
    "print(f'Train loss: {round(test_loss, 6)}', f'Accuracy: {round(test_acc, 3)}')"
   ],
   "metadata": {
    "id": "Dy6Z1jOJb2Kw",
    "outputId": "a8c7170a-3471-4c49-ed00-3c0bf8a13ec7",
    "colab": {
     "base_uri": "https://localhost:8080/"
    }
   }
  },
  {
   "cell_type": "code",
   "execution_count": null,
   "outputs": [
    {
     "output_type": "stream",
     "name": "stdout",
     "text": [
      "Epoch 0 Loss: 2.3093 Accuracy 0.0625\n",
      "Epoch 5 Loss: 2.3104 Accuracy 0.0625\n",
      "Epoch 10 Loss: 2.3096 Accuracy 0.0625\n",
      "Epoch 15 Loss: 2.3091 Accuracy 0.0625\n",
      "Epoch 20 Loss: 2.309 Accuracy 0.0625\n",
      "Epoch 25 Loss: 2.3087 Accuracy 0.0625\n",
      "Epoch 30 Loss: 2.2991 Accuracy 0.0625\n",
      "Epoch 35 Loss: 2.1233 Accuracy 0.1562\n",
      "Epoch 40 Loss: 1.7981 Accuracy 0.2812\n",
      "Epoch 45 Loss: 1.5589 Accuracy 0.4062\n",
      "Epoch 50 Loss: 1.4389 Accuracy 0.375\n",
      "Epoch 55 Loss: 1.6365 Accuracy 0.375\n",
      "Epoch 60 Loss: 1.4032 Accuracy 0.4062\n",
      "Epoch 65 Loss: 1.3609 Accuracy 0.4688\n",
      "Epoch 70 Loss: 1.4681 Accuracy 0.3438\n",
      "Epoch 75 Loss: 1.3583 Accuracy 0.4688\n",
      "Epoch 80 Loss: 1.5149 Accuracy 0.3125\n",
      "Epoch 85 Loss: 1.1383 Accuracy 0.5625\n",
      "Epoch 90 Loss: 1.0885 Accuracy 0.5625\n",
      "Epoch 95 Loss: 1.2974 Accuracy 0.375\n",
      "Train loss: 1.515966 Accuracy: 0.404\n",
      "Train loss: 1.532111 Accuracy: 0.396\n"
     ]
    }
   ],
   "source": [
    "best_rrn_model = RNN_trainer(rnn_type=\"RNN\",\n",
    "                            hidden=best_config[\"units\"],\n",
    "                            layers=best_config[\"layers\"],\n",
    "                            bi=best_config[\"bi\"])\n",
    "# we use both training and validation as a training set, using the best parameters\n",
    "# found in the previous model selection\n",
    "final_tr = Sequential_mnist(\"train-dev\")\n",
    "tr_history = best_rrn_model.fit(final_tr, best_config[\"epochs\"], lr=best_config[\"lr\"])\n",
    "\n",
    "tr_loss, tr_acc = best_rrn_model.validate(final_tr)\n",
    "print(f'Train loss: {round(tr_loss, 6)}', f'Accuracy: {round(tr_acc, 3)}')\n",
    "\n",
    "test_loss, test_acc  = best_rrn_model.validate(ts_dataset)\n",
    "print(f'Train loss: {round(test_loss, 6)}', f'Accuracy: {round(test_acc, 3)}')"
   ],
   "metadata": {
    "colab": {
     "base_uri": "https://localhost:8080/"
    },
    "outputId": "a8c7170a-3471-4c49-ed00-3c0bf8a13ec7",
    "id": "R9iSXGy0OUlR"
   }
  },
  {
   "cell_type": "code",
   "execution_count": null,
   "outputs": [
    {
     "output_type": "display_data",
     "data": {
      "text/plain": [
       "<Figure size 500x400 with 1 Axes>"
      ],
      "image/png": "[encoded data removed]"
     },
     "metadata": {}
    }
   ],
   "source": [
    "show_loss(tr_history)"
   ],
   "metadata": {
    "id": "wBupMz_ob2Kx",
    "outputId": "9cb8d4e9-53b2-498c-e7a4-2a68869a7547",
    "colab": {
     "base_uri": "https://localhost:8080/",
     "height": 410
    }
   }
  },
  {
   "cell_type": "markdown",
   "source": [
    "# Bonus Track Assignment 4: benchmarking RNN models on the sequential MNIST task"
   ],
   "metadata": {
    "collapsed": false,
    "id": "9bBmP9syNcuK"
   }
  },
  {
   "cell_type": "markdown",
   "source": [
    "## Grid search LSTM"
   ],
   "metadata": {
    "collapsed": false,
    "id": "BySrE_FNNcuL"
   }
  },
  {
   "cell_type": "code",
   "execution_count": 13,
   "outputs": [
    {
     "output_type": "stream",
     "name": "stdout",
     "text": [
      "Number of configurations to try:  8\n",
      "Config:  0\n",
      "Epoch 0 Loss: 2.3266 Accuracy 0.0\n",
      "Epoch 15 Loss: 1.7534 Accuracy 0.1875\n",
      "Epoch 30 Loss: 1.484 Accuracy 0.5\n",
      "Epoch 45 Loss: 1.3548 Accuracy 0.5625\n",
      "Epoch 60 Loss: 1.2062 Accuracy 0.625\n",
      "Epoch 75 Loss: 1.123 Accuracy 0.625\n",
      "Epoch 90 Loss: 1.1282 Accuracy 0.5625\n",
      "Results: Acc tr: 1.1421 Acc vl: 0.6164\n",
      "Config:  1\n",
      "Epoch 0 Loss: 2.3268 Accuracy 0.0\n",
      "Epoch 15 Loss: 1.3784 Accuracy 0.5\n",
      "Epoch 30 Loss: 1.1445 Accuracy 0.625\n",
      "Epoch 45 Loss: 1.1209 Accuracy 0.25\n",
      "Epoch 60 Loss: 0.6628 Accuracy 0.6875\n",
      "Epoch 75 Loss: 0.3496 Accuracy 0.875\n",
      "Epoch 90 Loss: 0.1421 Accuracy 1.0\n",
      "Results: Acc tr: 0.0786 Acc vl: 0.9486\n",
      "Config:  2\n",
      "Epoch 0 Loss: 2.3248 Accuracy 0.0\n",
      "Epoch 15 Loss: 2.3274 Accuracy 0.0\n",
      "Epoch 30 Loss: 2.3274 Accuracy 0.0\n",
      "Epoch 45 Loss: 2.3274 Accuracy 0.0\n",
      "Epoch 60 Loss: 2.3274 Accuracy 0.0\n",
      "Epoch 75 Loss: 2.3274 Accuracy 0.0\n",
      "Epoch 90 Loss: 2.3274 Accuracy 0.0\n",
      "Results: Acc tr: 2.3274 Acc vl: 0.1065\n",
      "Config:  3\n",
      "Epoch 0 Loss: 2.3258 Accuracy 0.0\n",
      "Epoch 15 Loss: 2.3274 Accuracy 0.0\n",
      "Epoch 30 Loss: 2.3274 Accuracy 0.0\n",
      "Epoch 45 Loss: 2.3274 Accuracy 0.0\n",
      "Epoch 60 Loss: 2.3274 Accuracy 0.0\n",
      "Epoch 75 Loss: 2.3274 Accuracy 0.0\n",
      "Epoch 90 Loss: 2.3274 Accuracy 0.0\n",
      "Results: Acc tr: 2.3274 Acc vl: 0.1065\n",
      "Config:  4\n",
      "Epoch 0 Loss: 2.3262 Accuracy 0.0\n",
      "Epoch 15 Loss: 1.5292 Accuracy 0.4375\n",
      "Epoch 30 Loss: 1.2772 Accuracy 0.5625\n",
      "Epoch 45 Loss: 0.6299 Accuracy 0.8125\n",
      "Epoch 60 Loss: 0.3288 Accuracy 0.8125\n",
      "Epoch 75 Loss: 0.3407 Accuracy 0.8125\n",
      "Epoch 90 Loss: 0.261 Accuracy 0.875\n",
      "Results: Acc tr: 0.1282 Acc vl: 0.9246\n",
      "Config:  5\n",
      "Epoch 0 Loss: 2.3243 Accuracy 0.0\n",
      "Epoch 15 Loss: 0.622 Accuracy 0.8125\n",
      "Epoch 30 Loss: 0.4185 Accuracy 0.625\n",
      "Epoch 45 Loss: 0.1194 Accuracy 0.9375\n",
      "Epoch 60 Loss: 0.1535 Accuracy 0.875\n",
      "Epoch 75 Loss: 0.0818 Accuracy 0.9375\n",
      "Epoch 90 Loss: 0.003 Accuracy 1.0\n",
      "Results: Acc tr: 0.0047 Acc vl: 0.9779\n",
      "Config:  6\n",
      "Epoch 0 Loss: 2.327 Accuracy 0.0\n",
      "Epoch 15 Loss: 2.3274 Accuracy 0.0\n",
      "Epoch 30 Loss: 2.3274 Accuracy 0.0\n",
      "Epoch 45 Loss: 2.3274 Accuracy 0.0\n",
      "Epoch 60 Loss: 2.3274 Accuracy 0.0\n",
      "Epoch 75 Loss: 2.3274 Accuracy 0.0\n",
      "Epoch 90 Loss: 2.3274 Accuracy 0.0\n",
      "Results: Acc tr: 2.3274 Acc vl: 0.1065\n",
      "Config:  7\n",
      "Epoch 0 Loss: 2.3243 Accuracy 0.0\n",
      "Epoch 15 Loss: 2.3274 Accuracy 0.0\n",
      "Epoch 30 Loss: 2.3274 Accuracy 0.0\n",
      "Epoch 45 Loss: 2.3274 Accuracy 0.0\n",
      "Epoch 60 Loss: 2.3274 Accuracy 0.0\n",
      "Epoch 75 Loss: 2.3274 Accuracy 0.0\n",
      "Epoch 90 Loss: 2.3274 Accuracy 0.0\n",
      "Results: Acc tr: 2.3274 Acc vl: 0.1065\n",
      "\n",
      "The best solution in  ({'units': 20, 'epochs': 100, 'lr': 0.001, 'layers': 2, 'bi': True}, 0.0047, 0.9779)\n"
     ]
    }
   ],
   "source": [
    "gs = GridSearch(\"LSTM\",ranges_to_explore, tr_dataset, dev_dataset)\n",
    "best_config =  gs.best_config\n",
    "best_model = gs.best_model"
   ],
   "metadata": {
    "colab": {
     "base_uri": "https://localhost:8080/"
    },
    "id": "qez_302MNcuL",
    "outputId": "69cb7039-c7c1-4e78-b873-d3dc47b1bc6f"
   }
  },
  {
   "cell_type": "code",
   "execution_count": 14,
   "outputs": [
    {
     "output_type": "stream",
     "name": "stdout",
     "text": [
      "Train loss: 0.073572 Accuracy: 0.979\n",
      "Train loss: 0.08263 Accuracy: 0.978\n",
      "Train loss: 0.0981 Accuracy: 0.973\n"
     ]
    }
   ],
   "source": [
    "tr_loss, tr_acc = best_model.validate(tr_dataset)\n",
    "print(f'Train loss: {round(tr_loss, 6)}', f'Accuracy: {round(tr_acc, 3)}')\n",
    "\n",
    "dev_loss, dev_acc = best_model.validate(dev_dataset)\n",
    "print(f'Train loss: {round(dev_loss, 6)}', f'Accuracy: {round(dev_acc, 3)}')\n",
    "\n",
    "test_loss, test_acc = best_model.validate(ts_dataset)\n",
    "print(f'Train loss: {round(test_loss, 6)}', f'Accuracy: {round(test_acc, 3)}')"
   ],
   "metadata": {
    "colab": {
     "base_uri": "https://localhost:8080/"
    },
    "id": "943adUieNcuL",
    "outputId": "2d4ce7b6-a5fb-4a7b-ce81-f193b5b5fe3d"
   }
  },
  {
   "cell_type": "code",
   "execution_count": 15,
   "outputs": [
    {
     "output_type": "stream",
     "name": "stdout",
     "text": [
      "Epoch 0 Loss: 2.3181 Accuracy 0.0625\n",
      "Epoch 15 Loss: 0.7091 Accuracy 0.8125\n",
      "Epoch 30 Loss: 1.4504 Accuracy 0.4375\n",
      "Epoch 45 Loss: 0.1719 Accuracy 0.9688\n",
      "Epoch 60 Loss: 0.0399 Accuracy 1.0\n",
      "Epoch 75 Loss: 0.0472 Accuracy 0.9688\n",
      "Epoch 90 Loss: 0.015 Accuracy 1.0\n",
      "Train loss: 0.098662 Accuracy: 0.972\n",
      "Train loss: 0.121364 Accuracy: 0.969\n"
     ]
    }
   ],
   "source": [
    "best_lstm_model = RNN_trainer(rnn_type=\"LSTM\",\n",
    "                             hidden=best_config[\"units\"],\n",
    "                             layers=best_config[\"layers\"],\n",
    "                             bi=best_config[\"bi\"])\n",
    "# we use both training and validation as a training set, using the best parameters\n",
    "# found in the previous model selection\n",
    "final_tr = Sequential_mnist(\"train-dev\")\n",
    "best_lstm_model.fit(final_tr, best_config[\"epochs\"], lr=best_config[\"lr\"])"
   ],
   "metadata": {
    "colab": {
     "base_uri": "https://localhost:8080/"
    },
    "id": "r9jfXH75NcuL",
    "outputId": "565e0d0b-0bb7-465a-e5bc-b7a74b49e255"
   }
  },
  {
   "cell_type": "code",
   "source": [
    "tr_loss, tr_acc = best_lstm_model.validate(final_tr)\n",
    "print(f'Train loss: {round(tr_loss, 6)}', f'Accuracy: {round(tr_acc, 3)}')\n",
    "\n",
    "test_loss, test_acc  = best_lstm_model.validate(ts_dataset)\n",
    "print(f'Train loss: {round(test_loss, 6)}', f'Accuracy: {round(test_acc, 3)}')"
   ],
   "metadata": {
    "id": "KtUZ1YNikUFc"
   },
   "execution_count": null,
   "outputs": []
  },
  {
   "cell_type": "markdown",
   "source": [
    "## Grid search GRU"
   ],
   "metadata": {
    "collapsed": false,
    "id": "kL_tZzSmNcuM"
   }
  },
  {
   "cell_type": "code",
   "execution_count": 16,
   "outputs": [
    {
     "output_type": "stream",
     "name": "stdout",
     "text": [
      "Number of configurations to try:  8\n",
      "Config:  0\n",
      "Epoch 0 Loss: 2.3266 Accuracy 0.0\n",
      "Epoch 15 Loss: 1.3563 Accuracy 0.625\n",
      "Epoch 30 Loss: 1.3958 Accuracy 0.5625\n",
      "Epoch 45 Loss: 1.1069 Accuracy 0.625\n",
      "Epoch 60 Loss: 0.81 Accuracy 0.6875\n",
      "Epoch 75 Loss: 0.5358 Accuracy 0.75\n",
      "Epoch 90 Loss: 0.4786 Accuracy 0.75\n",
      "Results: Acc tr: 0.4651 Acc vl: 0.7103\n",
      "Config:  1\n",
      "Epoch 0 Loss: 2.1199 Accuracy 0.0625\n",
      "Epoch 15 Loss: 0.705 Accuracy 0.6875\n",
      "Epoch 30 Loss: 0.6713 Accuracy 0.6875\n",
      "Epoch 45 Loss: 0.3925 Accuracy 0.75\n",
      "Epoch 60 Loss: 0.2538 Accuracy 0.8125\n",
      "Epoch 75 Loss: 0.2468 Accuracy 0.8125\n",
      "Epoch 90 Loss: 0.2787 Accuracy 0.8125\n",
      "Results: Acc tr: 0.3094 Acc vl: 0.8859\n",
      "Config:  2\n",
      "Epoch 0 Loss: 1.5874 Accuracy 0.375\n",
      "Epoch 15 Loss: 0.9837 Accuracy 0.5\n",
      "Epoch 30 Loss: 0.503 Accuracy 0.75\n",
      "Epoch 45 Loss: 0.3499 Accuracy 0.8125\n",
      "Epoch 60 Loss: 0.3472 Accuracy 0.8125\n",
      "Epoch 75 Loss: 0.1512 Accuracy 1.0\n",
      "Epoch 90 Loss: 0.2217 Accuracy 0.875\n",
      "Results: Acc tr: 0.2039 Acc vl: 0.9032\n",
      "Config:  3\n",
      "Epoch 0 Loss: 1.5957 Accuracy 0.375\n",
      "Epoch 15 Loss: 0.4626 Accuracy 0.875\n",
      "Epoch 30 Loss: 0.1386 Accuracy 1.0\n",
      "Epoch 45 Loss: 0.0448 Accuracy 1.0\n",
      "Epoch 60 Loss: 0.0126 Accuracy 1.0\n",
      "Epoch 75 Loss: 0.0148 Accuracy 1.0\n",
      "Epoch 90 Loss: 0.008 Accuracy 1.0\n",
      "Results: Acc tr: 0.0059 Acc vl: 0.9692\n",
      "Config:  4\n",
      "Epoch 0 Loss: 1.9249 Accuracy 0.1875\n",
      "Epoch 15 Loss: 0.7159 Accuracy 0.6875\n",
      "Epoch 30 Loss: 0.5824 Accuracy 0.6875\n",
      "Epoch 45 Loss: 0.5 Accuracy 0.8125\n",
      "Epoch 60 Loss: 0.3685 Accuracy 0.9375\n",
      "Epoch 75 Loss: 0.1725 Accuracy 0.9375\n",
      "Epoch 90 Loss: 0.2316 Accuracy 0.875\n",
      "Results: Acc tr: 0.2606 Acc vl: 0.9526\n",
      "Config:  5\n",
      "Epoch 0 Loss: 1.6633 Accuracy 0.25\n",
      "Epoch 15 Loss: 0.3751 Accuracy 0.75\n",
      "Epoch 30 Loss: 0.0517 Accuracy 1.0\n",
      "Epoch 45 Loss: 0.0193 Accuracy 1.0\n",
      "Epoch 60 Loss: 0.0132 Accuracy 1.0\n",
      "Epoch 75 Loss: 0.0031 Accuracy 1.0\n",
      "Epoch 90 Loss: 0.0012 Accuracy 1.0\n",
      "Results: Acc tr: 0.0016 Acc vl: 0.9765\n",
      "Config:  6\n",
      "Epoch 0 Loss: 1.3513 Accuracy 0.375\n",
      "Epoch 15 Loss: 0.1367 Accuracy 0.9375\n",
      "Epoch 30 Loss: 0.019 Accuracy 1.0\n",
      "Epoch 45 Loss: 0.0129 Accuracy 1.0\n",
      "Epoch 60 Loss: 0.0094 Accuracy 1.0\n",
      "Epoch 75 Loss: 0.0156 Accuracy 1.0\n",
      "Epoch 90 Loss: 0.0162 Accuracy 1.0\n",
      "Results: Acc tr: 0.0087 Acc vl: 0.9681\n",
      "Config:  7\n",
      "Epoch 0 Loss: 1.5162 Accuracy 0.1875\n",
      "Epoch 15 Loss: 0.0257 Accuracy 1.0\n",
      "Epoch 30 Loss: 0.0086 Accuracy 1.0\n",
      "Epoch 45 Loss: 0.0028 Accuracy 1.0\n",
      "Epoch 60 Loss: 0.0471 Accuracy 0.9375\n",
      "Epoch 75 Loss: 0.0581 Accuracy 0.9375\n",
      "Epoch 90 Loss: 0.0008 Accuracy 1.0\n",
      "Results: Acc tr: 0.018 Acc vl: 0.9804\n",
      "\n",
      "The best solution in  ({'units': 20, 'epochs': 100, 'lr': 0.004, 'layers': 2, 'bi': True}, 0.018, 0.9804)\n"
     ]
    }
   ],
   "source": [
    "gs = GridSearch(\"GRU\",ranges_to_explore, tr_dataset, dev_dataset)\n",
    "best_config =  gs.best_config\n",
    "best_model = gs.best_model"
   ],
   "metadata": {
    "colab": {
     "base_uri": "https://localhost:8080/"
    },
    "id": "kB6YGhrgNcuM",
    "outputId": "db9194ae-7914-4ab9-c423-e962b052413d"
   }
  },
  {
   "cell_type": "code",
   "execution_count": 17,
   "outputs": [
    {
     "output_type": "stream",
     "name": "stdout",
     "text": [
      "Train loss: 0.040208 Accuracy: 0.987\n",
      "Train loss: 0.07857 Accuracy: 0.98\n",
      "Train loss: 0.076091 Accuracy: 0.98\n"
     ]
    }
   ],
   "source": [
    "tr_loss, tr_acc = best_model.validate(tr_dataset)\n",
    "print(f'Train loss: {round(tr_loss, 6)}', f'Accuracy: {round(tr_acc, 3)}')\n",
    "\n",
    "dev_loss, dev_acc = best_model.validate(dev_dataset)\n",
    "print(f'Train loss: {round(dev_loss, 6)}', f'Accuracy: {round(dev_acc, 3)}')\n",
    "\n",
    "test_loss, test_acc = best_model.validate(ts_dataset)\n",
    "print(f'Train loss: {round(test_loss, 6)}', f'Accuracy: {round(test_acc, 3)}')"
   ],
   "metadata": {
    "colab": {
     "base_uri": "https://localhost:8080/"
    },
    "id": "Blwv0MRYNcuN",
    "outputId": "f9257228-8161-4279-bece-4969adc3e436"
   }
  },
  {
   "cell_type": "code",
   "execution_count": 18,
   "outputs": [
    {
     "output_type": "stream",
     "name": "stdout",
     "text": [
      "Epoch 0 Loss: 0.9512 Accuracy 0.6562\n",
      "Epoch 15 Loss: 0.1058 Accuracy 0.9688\n",
      "Epoch 30 Loss: 0.1021 Accuracy 0.9688\n",
      "Epoch 45 Loss: 0.0352 Accuracy 1.0\n",
      "Epoch 60 Loss: 0.0202 Accuracy 1.0\n",
      "Epoch 75 Loss: 0.0065 Accuracy 1.0\n",
      "Epoch 90 Loss: 0.0235 Accuracy 1.0\n",
      "Train loss: 0.058606 Accuracy: 0.982\n",
      "Train loss: 0.079427 Accuracy: 0.977\n"
     ]
    }
   ],
   "source": [
    "best_gru_model = RNN_trainer(rnn_type=\"GRU\",\n",
    "                             hidden=best_config[\"units\"],\n",
    "                             layers=best_config[\"layers\"],\n",
    "                             bi=best_config[\"bi\"])\n",
    "# we use both training and validation as a training set, using the best parameters\n",
    "# found in the previous model selection\n",
    "final_tr = Sequential_mnist(\"train-dev\")\n",
    "best_gru_model.fit(final_tr, best_config[\"epochs\"], lr=best_config[\"lr\"])\n",
    "\n",
    "tr_loss, tr_acc = best_gru_model.validate(final_tr)\n",
    "print(f'Train loss: {round(tr_loss, 6)}', f'Accuracy: {round(tr_acc, 3)}')\n",
    "\n",
    "test_loss, test_acc  = best_gru_model.validate(ts_dataset)\n",
    "print(f'Train loss: {round(test_loss, 6)}', f'Accuracy: {round(test_acc, 3)}')"
   ],
   "metadata": {
    "colab": {
     "base_uri": "https://localhost:8080/"
    },
    "id": "zFK6uUCxNcuN",
    "outputId": "20e6611c-4985-486e-d76a-335512764ada"
   }
  }
 ],
 "metadata": {
  "kernelspec": {
   "display_name": "Python 3",
   "name": "python3"
  },
  "language_info": {
   "codemirror_mode": {
    "name": "ipython",
    "version": 2
   },
   "file_extension": ".py",
   "mimetype": "text/x-python",
   "name": "python",
   "nbconvert_exporter": "python",
   "pygments_lexer": "ipython2",
   "version": "2.7.6"
  },
  "colab": {
   "provenance": [],
   "gpuType": "T4"
  },
  "accelerator": "GPU"
 },
 "nbformat": 4,
 "nbformat_minor": 0
}

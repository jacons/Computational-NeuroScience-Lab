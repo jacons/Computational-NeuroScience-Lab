{
 "cells": [
  {
   "cell_type": "code",
   "execution_count": 1,
   "metadata": {
    "collapsed": true,
    "ExecuteTime": {
     "end_time": "2023-07-17T07:56:54.661791200Z",
     "start_time": "2023-07-17T07:56:51.931982500Z"
    }
   },
   "outputs": [],
   "source": [
    "import torch, json\n",
    "import pandas as pd"
   ]
  },
  {
   "cell_type": "code",
   "execution_count": 2,
   "outputs": [],
   "source": [
    "# To work with Google colab\n",
    "#!wget https://raw.githubusercontent.com/jacons/Computational-NeuroScience-Lab/master/LAB3_1/Assignment2_4/caches/best_models.pt\n",
    "#!wget https://raw.githubusercontent.com/jacons/Computational-NeuroScience-Lab/master/LAB3_1/Assignment2_4/caches/metrics_rnn_lstm_gru.json\n",
    "#!wget https://raw.githubusercontent.com/jacons/Computational-NeuroScience-Lab/master/LAB3_1/Assignment2_4/caches/stat_table.json\n",
    "#!wget https://raw.githubusercontent.com/jacons/Computational-NeuroScience-Lab/master/LAB3_1/Assignment2_4/model.py\n",
    "\n",
    "# Oss. models are on GPU!!\n",
    "rnn_model, lstm_model, gru_model = torch.load(\"caches/best_models.pt\")\n",
    "\n",
    "best_config = json.load(open(\"caches/metrics_rnn_lstm_gru.json\",\"r\"))\n",
    "stat_table = json.load(open(\"caches/stat_table.json\"))"
   ],
   "metadata": {
    "collapsed": false,
    "ExecuteTime": {
     "end_time": "2023-07-17T07:56:54.819114100Z",
     "start_time": "2023-07-17T07:56:54.669436Z"
    }
   }
  },
  {
   "cell_type": "markdown",
   "source": [
    "# Bonus-Track Assignment 2 & 4: Sequential MNIST classification task and benchmarking RNN models on the sequential MNIST task"
   ],
   "metadata": {
    "collapsed": false
   }
  },
  {
   "cell_type": "markdown",
   "source": [
    "## Hyperparameters and Parameter for model selection\n",
    "\n",
    "1) Hidden units\n",
    "2) Number of epochs\n",
    "3) Learning rate\n",
    "4) Layers\n",
    "5) Bidirectional\n",
    "6) Batch size\n",
    "7) Optimizer\n",
    "8) Clipping gradient\n",
    "\n",
    "| Hyperparameters \t |  Values   \t  |   Description     \t   |\n",
    "|:-----------------:|:------------:|:---------------------:|\n",
    "|   units      \t    |  10, 20   \t  |   Hidden units    \t   |\n",
    "|   epochs     \t    |   50     \t   |  Number of epochs  \t  |\n",
    "|    lr       \t     | 1e-3, 4e-3 \t |  Learning rate    \t   |\n",
    "|   layers     \t    |  1, 2    \t   |  Number of layers  \t  |\n",
    "|    bi       \t     |  True    \t   | Bidirectional model \t |\n",
    "|  batch_size   \t   |   64     \t   |   Batch size     \t    |\n",
    "|    opt       \t    |  Adam    \t   |   Optimizer      \t    |\n",
    "|    clip      \t    |   1     \t    | Clipping gradient   \t |"
   ],
   "metadata": {
    "collapsed": false
   }
  },
  {
   "cell_type": "markdown",
   "source": [
    "## Best configuration"
   ],
   "metadata": {
    "collapsed": false
   }
  },
  {
   "cell_type": "code",
   "execution_count": 3,
   "outputs": [
    {
     "name": "stdout",
     "output_type": "stream",
     "text": [
      "Best configuration for Vanilla RNN : {'units': 10, 'epochs': 200, 'lr': 0.001, 'layers': 2, 'bi': True}\n"
     ]
    }
   ],
   "source": [
    "print(f\"Best configuration for Vanilla RNN : {best_config['RNN']}\")"
   ],
   "metadata": {
    "collapsed": false,
    "ExecuteTime": {
     "end_time": "2023-07-17T07:56:54.827870400Z",
     "start_time": "2023-07-17T07:56:54.822717400Z"
    }
   }
  },
  {
   "cell_type": "code",
   "execution_count": 4,
   "outputs": [
    {
     "name": "stdout",
     "output_type": "stream",
     "text": [
      "Best configuration for LSTM : {'units': 20, 'epochs': 200, 'lr': 0.001, 'layers': 2, 'bi': True}\n"
     ]
    }
   ],
   "source": [
    "print(f\"Best configuration for LSTM : {best_config['LSTM']}\")"
   ],
   "metadata": {
    "collapsed": false,
    "ExecuteTime": {
     "end_time": "2023-07-17T07:56:54.892054900Z",
     "start_time": "2023-07-17T07:56:54.835550Z"
    }
   }
  },
  {
   "cell_type": "code",
   "execution_count": 5,
   "outputs": [
    {
     "name": "stdout",
     "output_type": "stream",
     "text": [
      "Best configuration for GRU : {'units': 20, 'epochs': 200, 'lr': 0.004, 'layers': 2, 'bi': True}\n"
     ]
    }
   ],
   "source": [
    "print(f\"Best configuration for GRU : {best_config['GRU']}\")"
   ],
   "metadata": {
    "collapsed": false,
    "ExecuteTime": {
     "end_time": "2023-07-17T07:56:54.904080900Z",
     "start_time": "2023-07-17T07:56:54.859462900Z"
    }
   }
  },
  {
   "cell_type": "markdown",
   "source": [
    "## Statistical table"
   ],
   "metadata": {
    "collapsed": false
   }
  },
  {
   "cell_type": "code",
   "execution_count": 6,
   "outputs": [],
   "source": [
    "def review(name:str):\n",
    "    t = stat_table[name]\n",
    "    result = (round(t[\"training_loss\"][0], 3),\n",
    "              round(t[\"training_loss\"][1], 3),\n",
    "\n",
    "              str(round(t[\"training_acc\"][0] * 100, 3))+\"%\",\n",
    "              round(t[\"training_acc\"][1], 3),\n",
    "\n",
    "              round(t[\"test_loss\"][0], 3),\n",
    "              round(t[\"test_loss\"][1], 3),\n",
    "\n",
    "              str(round(t[\"test_acc\"][0] * 100, 3))+ \"%\",\n",
    "              round(t[\"test_acc\"][1], 3))\n",
    "    return result"
   ],
   "metadata": {
    "collapsed": false,
    "ExecuteTime": {
     "end_time": "2023-07-17T07:56:54.904080900Z",
     "start_time": "2023-07-17T07:56:54.868973700Z"
    }
   }
  },
  {
   "cell_type": "code",
   "execution_count": 7,
   "outputs": [
    {
     "data": {
      "text/plain": "      TR loss Avg  TR loss std TR Acc Avg  TR Acc std  TS loss Avg  \\\nRNN         1.797        0.078    30.181%       3.450        1.791   \nLSTM        0.367        0.111     87.53%       4.394        0.368   \nGRU         0.232        0.049    92.655%       1.702        0.229   \n\n      TS loss std TS Acc Avg  TS Acc std  \nRNN         0.071    30.019%       2.943  \nLSTM        0.108     87.53%       4.406  \nGRU         0.046    92.834%       1.797  ",
      "text/html": "<div>\n<style scoped>\n    .dataframe tbody tr th:only-of-type {\n        vertical-align: middle;\n    }\n\n    .dataframe tbody tr th {\n        vertical-align: top;\n    }\n\n    .dataframe thead th {\n        text-align: right;\n    }\n</style>\n<table border=\"1\" class=\"dataframe\">\n  <thead>\n    <tr style=\"text-align: right;\">\n      <th></th>\n      <th>TR loss Avg</th>\n      <th>TR loss std</th>\n      <th>TR Acc Avg</th>\n      <th>TR Acc std</th>\n      <th>TS loss Avg</th>\n      <th>TS loss std</th>\n      <th>TS Acc Avg</th>\n      <th>TS Acc std</th>\n    </tr>\n  </thead>\n  <tbody>\n    <tr>\n      <th>RNN</th>\n      <td>1.797</td>\n      <td>0.078</td>\n      <td>30.181%</td>\n      <td>3.450</td>\n      <td>1.791</td>\n      <td>0.071</td>\n      <td>30.019%</td>\n      <td>2.943</td>\n    </tr>\n    <tr>\n      <th>LSTM</th>\n      <td>0.367</td>\n      <td>0.111</td>\n      <td>87.53%</td>\n      <td>4.394</td>\n      <td>0.368</td>\n      <td>0.108</td>\n      <td>87.53%</td>\n      <td>4.406</td>\n    </tr>\n    <tr>\n      <th>GRU</th>\n      <td>0.232</td>\n      <td>0.049</td>\n      <td>92.655%</td>\n      <td>1.702</td>\n      <td>0.229</td>\n      <td>0.046</td>\n      <td>92.834%</td>\n      <td>1.797</td>\n    </tr>\n  </tbody>\n</table>\n</div>"
     },
     "execution_count": 7,
     "metadata": {},
     "output_type": "execute_result"
    }
   ],
   "source": [
    "pd.DataFrame(data=[review(\"results_rnn\"),review(\"results_lstm\"),review(\"results_gru\")],\n",
    "             index=[\"RNN\",\"LSTM\",\"GRU\"],\n",
    "             columns=[\"TR loss Avg\",\"TR loss std\",\"TR Acc Avg\",\"TR Acc std\",\"TS loss Avg\",\"TS loss std\",\"TS Acc Avg\",\"TS Acc std\"])"
   ],
   "metadata": {
    "collapsed": false,
    "ExecuteTime": {
     "end_time": "2023-07-17T07:56:54.910690400Z",
     "start_time": "2023-07-17T07:56:54.892054900Z"
    }
   }
  }
 ],
 "metadata": {
  "kernelspec": {
   "display_name": "Python 3",
   "language": "python",
   "name": "python3"
  },
  "language_info": {
   "codemirror_mode": {
    "name": "ipython",
    "version": 2
   },
   "file_extension": ".py",
   "mimetype": "text/x-python",
   "name": "python",
   "nbconvert_exporter": "python",
   "pygments_lexer": "ipython2",
   "version": "2.7.6"
  }
 },
 "nbformat": 4,
 "nbformat_minor": 0
}

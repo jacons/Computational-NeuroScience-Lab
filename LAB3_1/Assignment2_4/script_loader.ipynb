{
 "cells": [
  {
   "cell_type": "code",
   "execution_count": null,
   "metadata": {
    "collapsed": true
   },
   "outputs": [],
   "source": [
    "import torch, json"
   ]
  },
  {
   "cell_type": "code",
   "execution_count": null,
   "outputs": [],
   "source": [
    "rnn_model, lstm_model, gru_model = torch.load(\"caches/best_models.pt\")\n",
    "\n",
    "best_config = json.load(open(\"caches/metrics_rnn_lstm_gru.json\",\"r\"))"
   ],
   "metadata": {
    "collapsed": false
   }
  },
  {
   "cell_type": "markdown",
   "source": [
    "# Bonus-Track Assignment 2 & 4: Sequential MNIST classification task and benchmarking RNN models on the sequential MNIST task"
   ],
   "metadata": {
    "collapsed": false
   }
  },
  {
   "cell_type": "markdown",
   "source": [
    "## Hyperparameters and Parameter for model selection\n",
    "\n",
    "1) Hidden units\n",
    "2) Number of epochs\n",
    "3) Learning rate\n",
    "4) Layers\n",
    "5) Bidirectional\n",
    "6) Batch size\n",
    "7) Optimizer\n",
    "8) Clipping gradient\n",
    "\n",
    "| Hyperparameters \t|   Values   \t|     Description     \t|\n",
    "|:---------------:\t|:----------:\t|:-------------------:\t|\n",
    "|      units      \t|   10, 20   \t|     Hidden units    \t|\n",
    "|      epochs     \t|     50     \t|   Number of epochs  \t|\n",
    "|        lr       \t| 1e-3, 4e-3 \t|    Learning rate    \t|\n",
    "|      layers     \t|    1, 2    \t|   Number of layers  \t|\n",
    "|        bi       \t|    True    \t| Bidirectional model \t|\n",
    "|    batch_size   \t|     64     \t|      Batch size     \t|\n",
    "|       opt       \t|    Adam    \t|      Optimizer      \t|\n",
    "|       clip      \t|      1     \t| Clipping gradient   \t|"
   ],
   "metadata": {
    "collapsed": false
   }
  },
  {
   "cell_type": "markdown",
   "source": [
    "## Best configuration"
   ],
   "metadata": {
    "collapsed": false
   }
  },
  {
   "cell_type": "code",
   "execution_count": null,
   "outputs": [],
   "source": [
    "print(f\"Best configuration for Vanilla RNN : {best_config['vanilla_rnn']}\")"
   ],
   "metadata": {
    "collapsed": false
   }
  },
  {
   "cell_type": "code",
   "execution_count": null,
   "outputs": [],
   "source": [
    "print(f\"Best configuration for LSTM : {best_config['best_lstm']}\")"
   ],
   "metadata": {
    "collapsed": false
   }
  },
  {
   "cell_type": "code",
   "execution_count": null,
   "outputs": [],
   "source": [
    "print(f\"Best configuration for GRU : {best_config['best_gru']}\")"
   ],
   "metadata": {
    "collapsed": false
   }
  }
 ],
 "metadata": {
  "kernelspec": {
   "display_name": "Python 3",
   "language": "python",
   "name": "python3"
  },
  "language_info": {
   "codemirror_mode": {
    "name": "ipython",
    "version": 2
   },
   "file_extension": ".py",
   "mimetype": "text/x-python",
   "name": "python",
   "nbconvert_exporter": "python",
   "pygments_lexer": "ipython2",
   "version": "2.7.6"
  }
 },
 "nbformat": 4,
 "nbformat_minor": 0
}
